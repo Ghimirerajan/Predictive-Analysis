{
 "cells": [
  {
   "cell_type": "markdown",
   "id": "55f14cb1-556e-4fc5-bc87-71670ddff551",
   "metadata": {},
   "source": [
    "# PCA Regression  and Regularized Regression( Lasso) "
   ]
  },
  {
   "cell_type": "markdown",
   "id": "d0d66b67-7a7c-47bf-97f9-7a471def7b64",
   "metadata": {},
   "source": [
    "## Principle Component Analysis (Regression) with Abalone Dataset competition"
   ]
  },
  {
   "cell_type": "code",
   "execution_count": 2,
   "id": "3613a12f-45d2-49ad-818c-584a92fb183b",
   "metadata": {
    "editable": true,
    "slideshow": {
     "slide_type": ""
    },
    "tags": []
   },
   "outputs": [
    {
     "name": "stdout",
     "output_type": "stream",
     "text": [
      "C:\\Users\\ghimi\\OneDrive\\Desktop\\PHD in Data Science\\4_Predictive Analysis_TIM8555\\Assignment 3\n"
     ]
    }
   ],
   "source": [
    "import os\n",
    "os.chdir(\"C:/Users/ghimi/OneDrive/Desktop/PHD in Data Science/4_Predictive Analysis_TIM8555/Assignment 3\")\n",
    "print(os.getcwd())  # Verify change\n"
   ]
  },
  {
   "cell_type": "code",
   "execution_count": 3,
   "id": "17f225a1-73d0-40bc-8e81-3c852b81b2f5",
   "metadata": {},
   "outputs": [],
   "source": [
    "import pandas as pd\n",
    "import seaborn as sns\n",
    "import statsmodels.api as sm"
   ]
  },
  {
   "cell_type": "code",
   "execution_count": 56,
   "id": "9c2d638d-0ef6-4717-96e3-9819f523bb51",
   "metadata": {},
   "outputs": [
    {
     "name": "stdout",
     "output_type": "stream",
     "text": [
      "id                0\n",
      "Sex               0\n",
      "Length            0\n",
      "Diameter          0\n",
      "Height            0\n",
      "Whole weight      0\n",
      "Whole weight.1    0\n",
      "Whole weight.2    0\n",
      "Shell weight      0\n",
      "Rings             0\n",
      "dtype: int64\n"
     ]
    }
   ],
   "source": [
    "import pandas as pd\n",
    "\n",
    "train_data = pd.read_csv(\"C:/Users/ghimi/OneDrive/Desktop/PHD in Data Science/4_Predictive Analysis_TIM8555/Dataset/train.csv\")\n",
    "test_data = pd.read_csv(\"C:/Users/ghimi/OneDrive/Desktop/PHD in Data Science/4_Predictive Analysis_TIM8555/Dataset/test.csv\")\n",
    "\n",
    "# Check for missing values\n",
    "print(train_data.isnull().sum())\n"
   ]
  },
  {
   "cell_type": "code",
   "execution_count": 5,
   "id": "f1a3c4da-66dc-409a-ab7e-01c5570bcb07",
   "metadata": {},
   "outputs": [
    {
     "name": "stdout",
     "output_type": "stream",
     "text": [
      "   id Sex  Length  Diameter  Height  Whole weight  Whole weight.1  \\\n",
      "0   0   F   0.550     0.430   0.150        0.7715          0.3285   \n",
      "1   1   F   0.630     0.490   0.145        1.1300          0.4580   \n",
      "2   2   I   0.160     0.110   0.025        0.0210          0.0055   \n",
      "3   3   M   0.595     0.475   0.150        0.9145          0.3755   \n",
      "4   4   I   0.555     0.425   0.130        0.7820          0.3695   \n",
      "\n",
      "   Whole weight.2  Shell weight  Rings  \n",
      "0          0.1465        0.2400     11  \n",
      "1          0.2765        0.3200     11  \n",
      "2          0.0030        0.0050      6  \n",
      "3          0.2055        0.2500     10  \n",
      "4          0.1600        0.1975      9  \n"
     ]
    }
   ],
   "source": [
    "print(train_data.head())\n"
   ]
  },
  {
   "cell_type": "code",
   "execution_count": 6,
   "id": "83914175-14d6-4353-b482-c60dc024d818",
   "metadata": {},
   "outputs": [
    {
     "name": "stdout",
     "output_type": "stream",
     "text": [
      "      id Sex  Length  Diameter  Height  Whole weight  Whole weight.1  \\\n",
      "0  90615   M   0.645     0.475   0.155        1.2380          0.6185   \n",
      "1  90616   M   0.580     0.460   0.160        0.9830          0.4785   \n",
      "2  90617   M   0.560     0.420   0.140        0.8395          0.3525   \n",
      "3  90618   M   0.570     0.490   0.145        0.8740          0.3525   \n",
      "4  90619   I   0.415     0.325   0.110        0.3580          0.1575   \n",
      "\n",
      "   Whole weight.2  Shell weight  \n",
      "0          0.3125        0.3005  \n",
      "1          0.2195        0.2750  \n",
      "2          0.1845        0.2405  \n",
      "3          0.1865        0.2350  \n",
      "4          0.0670        0.1050  \n"
     ]
    }
   ],
   "source": [
    "print(test_data.head())"
   ]
  },
  {
   "cell_type": "code",
   "execution_count": 7,
   "id": "e2e67b7f-146a-4d4f-b176-32589786baa4",
   "metadata": {},
   "outputs": [
    {
     "name": "stdout",
     "output_type": "stream",
     "text": [
      "<class 'pandas.core.frame.DataFrame'>\n",
      "RangeIndex: 90615 entries, 0 to 90614\n",
      "Data columns (total 10 columns):\n",
      " #   Column          Non-Null Count  Dtype  \n",
      "---  ------          --------------  -----  \n",
      " 0   id              90615 non-null  int64  \n",
      " 1   Sex             90615 non-null  object \n",
      " 2   Length          90615 non-null  float64\n",
      " 3   Diameter        90615 non-null  float64\n",
      " 4   Height          90615 non-null  float64\n",
      " 5   Whole weight    90615 non-null  float64\n",
      " 6   Whole weight.1  90615 non-null  float64\n",
      " 7   Whole weight.2  90615 non-null  float64\n",
      " 8   Shell weight    90615 non-null  float64\n",
      " 9   Rings           90615 non-null  int64  \n",
      "dtypes: float64(7), int64(2), object(1)\n",
      "memory usage: 6.9+ MB\n",
      "None\n"
     ]
    }
   ],
   "source": [
    "print(train_data.info())  # Displays information about the dataset (columns, data types, etc.)"
   ]
  },
  {
   "cell_type": "code",
   "execution_count": 8,
   "id": "0989197d-707c-49d4-b246-ad8b294ec3c0",
   "metadata": {},
   "outputs": [
    {
     "name": "stdout",
     "output_type": "stream",
     "text": [
      "<class 'pandas.core.frame.DataFrame'>\n",
      "RangeIndex: 60411 entries, 0 to 60410\n",
      "Data columns (total 9 columns):\n",
      " #   Column          Non-Null Count  Dtype  \n",
      "---  ------          --------------  -----  \n",
      " 0   id              60411 non-null  int64  \n",
      " 1   Sex             60411 non-null  object \n",
      " 2   Length          60411 non-null  float64\n",
      " 3   Diameter        60411 non-null  float64\n",
      " 4   Height          60411 non-null  float64\n",
      " 5   Whole weight    60411 non-null  float64\n",
      " 6   Whole weight.1  60411 non-null  float64\n",
      " 7   Whole weight.2  60411 non-null  float64\n",
      " 8   Shell weight    60411 non-null  float64\n",
      "dtypes: float64(7), int64(1), object(1)\n",
      "memory usage: 4.1+ MB\n",
      "None\n"
     ]
    }
   ],
   "source": [
    "print(test_data.info()) "
   ]
  },
  {
   "cell_type": "markdown",
   "id": "13a76ba8-74e2-43d4-ae56-b7b5d2ef0ccb",
   "metadata": {},
   "source": [
    "Check for missing data"
   ]
  },
  {
   "cell_type": "code",
   "execution_count": 10,
   "id": "cd245636-7e57-47a6-b669-cea5c3e913fa",
   "metadata": {},
   "outputs": [
    {
     "name": "stdout",
     "output_type": "stream",
     "text": [
      "id                0\n",
      "Sex               0\n",
      "Length            0\n",
      "Diameter          0\n",
      "Height            0\n",
      "Whole weight      0\n",
      "Whole weight.1    0\n",
      "Whole weight.2    0\n",
      "Shell weight      0\n",
      "Rings             0\n",
      "dtype: int64\n"
     ]
    }
   ],
   "source": [
    "print(train_data.isnull().sum())"
   ]
  },
  {
   "cell_type": "code",
   "execution_count": 11,
   "id": "be76cbdf-67e7-4714-91c0-e154adf11621",
   "metadata": {},
   "outputs": [
    {
     "name": "stdout",
     "output_type": "stream",
     "text": [
      "id                0\n",
      "Sex               0\n",
      "Length            0\n",
      "Diameter          0\n",
      "Height            0\n",
      "Whole weight      0\n",
      "Whole weight.1    0\n",
      "Whole weight.2    0\n",
      "Shell weight      0\n",
      "dtype: int64\n"
     ]
    }
   ],
   "source": [
    "print(test_data.isnull().sum())"
   ]
  },
  {
   "cell_type": "code",
   "execution_count": 12,
   "id": "bd7a4506-3dec-4c7c-a794-5ef0ebc6a4d9",
   "metadata": {},
   "outputs": [],
   "source": [
    "#Convert the Sex feature into numerical categories.\n",
    "from sklearn.preprocessing import LabelEncoder\n",
    "le = LabelEncoder()\n",
    "train_data['Sex'] = le.fit_transform(train_data['Sex'])\n",
    "test_data['Sex'] = le.transform(test_data['Sex'])\n"
   ]
  },
  {
   "cell_type": "code",
   "execution_count": 13,
   "id": "77e6d356-b48b-40c1-8d2b-b4accacda8d4",
   "metadata": {},
   "outputs": [
    {
     "name": "stdout",
     "output_type": "stream",
     "text": [
      "<class 'pandas.core.frame.DataFrame'>\n",
      "RangeIndex: 90615 entries, 0 to 90614\n",
      "Data columns (total 10 columns):\n",
      " #   Column          Non-Null Count  Dtype  \n",
      "---  ------          --------------  -----  \n",
      " 0   id              90615 non-null  int64  \n",
      " 1   Sex             90615 non-null  int32  \n",
      " 2   Length          90615 non-null  float64\n",
      " 3   Diameter        90615 non-null  float64\n",
      " 4   Height          90615 non-null  float64\n",
      " 5   Whole weight    90615 non-null  float64\n",
      " 6   Whole weight.1  90615 non-null  float64\n",
      " 7   Whole weight.2  90615 non-null  float64\n",
      " 8   Shell weight    90615 non-null  float64\n",
      " 9   Rings           90615 non-null  int64  \n",
      "dtypes: float64(7), int32(1), int64(2)\n",
      "memory usage: 6.6 MB\n",
      "None\n"
     ]
    }
   ],
   "source": [
    "print(train_data.info())"
   ]
  },
  {
   "cell_type": "markdown",
   "id": "3614d818-351d-4ea4-8f17-f28ef3e85b3e",
   "metadata": {},
   "source": [
    "# Principle Component Regression "
   ]
  },
  {
   "cell_type": "markdown",
   "id": "f90bd122-53c4-4e84-afc3-8f481e75e112",
   "metadata": {},
   "source": [
    "### Step 1: Import Necessary Libraries\n",
    "\n",
    " need libraries like pandas, numpy, sklearn for PCA, regression, and metrics.\n"
   ]
  },
  {
   "cell_type": "code",
   "execution_count": 16,
   "id": "a114af87-1806-46d2-8610-631d08cf4a82",
   "metadata": {},
   "outputs": [],
   "source": [
    "import pandas as pd\n",
    "import numpy as np\n",
    "from sklearn.model_selection import train_test_split\n",
    "from sklearn.preprocessing import StandardScaler\n",
    "from sklearn.decomposition import PCA\n",
    "from sklearn.linear_model import LinearRegression\n",
    "from sklearn.metrics import mean_squared_error\n"
   ]
  },
  {
   "cell_type": "markdown",
   "id": "217fe968-c109-42a6-9833-2fc07da313ec",
   "metadata": {},
   "source": [
    "### Step 2: Review the test data and train data\n",
    "\n",
    "\n"
   ]
  },
  {
   "cell_type": "code",
   "execution_count": 18,
   "id": "7d3e6db7-706a-4fc5-81b3-cbb1c4b2e54c",
   "metadata": {},
   "outputs": [],
   "source": [
    "from sklearn.model_selection import train_test_split\n",
    "X = train_data.drop(columns=['Rings'])\n",
    "y = train_data['Rings']\n",
    "\n",
    "X_train, X_test, y_train, y_test = train_test_split(X, y, test_size=0.2, random_state=42)"
   ]
  },
  {
   "cell_type": "markdown",
   "id": "0d43c397-4493-47c3-8453-033e205fcf1a",
   "metadata": {},
   "source": [
    "### Step 3: Standardize the Data\n",
    "Since PCA is sensitive to scale, standardize the data using StandardScaler."
   ]
  },
  {
   "cell_type": "code",
   "execution_count": 20,
   "id": "d160246e-21d8-4444-a94a-c1d577c73a23",
   "metadata": {},
   "outputs": [],
   "source": [
    "scaler = StandardScaler()\n",
    "X_train_scaled = scaler.fit_transform(X_train)\n",
    "X_test_scaled = scaler.transform(X_test)\n"
   ]
  },
  {
   "cell_type": "markdown",
   "id": "4af69711-8397-4001-8d75-14ef3f5d1e33",
   "metadata": {},
   "source": [
    "### Step 4: Perform Principle Component Analysis( PCA)\n",
    "Apply PCA to reduce the dimensionality of the dataset."
   ]
  },
  {
   "cell_type": "code",
   "execution_count": 22,
   "id": "73a99ae9-b4e0-4af7-8329-c9e93033b2cf",
   "metadata": {},
   "outputs": [
    {
     "name": "stdout",
     "output_type": "stream",
     "text": [
      "[0.72757172 0.83924346 0.94971265 0.97129375 0.98443157 0.99267311\n",
      " 0.99768492 0.99888767 1.        ]\n"
     ]
    }
   ],
   "source": [
    "pca = PCA()\n",
    "X_train_pca = pca.fit_transform(X_train_scaled)\n",
    "X_test_pca = pca.transform(X_test_scaled)\n",
    "\n",
    "# To check the variance explained by each component\n",
    "explained_variance = pca.explained_variance_ratio_\n",
    "cumulative_variance = np.cumsum(explained_variance)\n",
    "print(cumulative_variance)\n"
   ]
  },
  {
   "cell_type": "markdown",
   "id": "906415fa-eb8a-432a-903a-c4b614d50e19",
   "metadata": {},
   "source": [
    "### Step 5: Lets retain compoents which has 95% of the variance\n",
    "\n",
    "we can choose how many principal components to retain based on the explained variance, typically the number of components that explain 95-99% of the variance."
   ]
  },
  {
   "cell_type": "code",
   "execution_count": 24,
   "id": "d1705d61-8d7a-4d53-942a-40bdfb9579f3",
   "metadata": {},
   "outputs": [
    {
     "name": "stdout",
     "output_type": "stream",
     "text": [
      "Number of components to explain 95% variance: 4\n"
     ]
    }
   ],
   "source": [
    "# Let's  retain components explaining 95% of the variance\n",
    "n_components = np.argmax(cumulative_variance >= 0.95) + 1\n",
    "print(f'Number of components to explain 95% variance: {n_components}')"
   ]
  },
  {
   "cell_type": "markdown",
   "id": "6c2287db-e5cc-47a8-ad01-6a534a9bef71",
   "metadata": {},
   "source": [
    "### Step 6: Reapply with selected numbers of components\n",
    "\n"
   ]
  },
  {
   "cell_type": "code",
   "execution_count": 26,
   "id": "5092bd05-0cb4-4128-a3e5-d3d0852fcf38",
   "metadata": {},
   "outputs": [],
   "source": [
    "# Reapply PCA with selected number of components\n",
    "pca = PCA(n_components=n_components)\n",
    "X_train_pca = pca.fit_transform(X_train_scaled)\n",
    "X_test_pca = pca.transform(X_test_scaled)"
   ]
  },
  {
   "cell_type": "markdown",
   "id": "e08be9a3-bb13-4ca6-81a5-c9a9a5547517",
   "metadata": {},
   "source": [
    "### Step 7: Perform Linear Regression on the Principle Component\n"
   ]
  },
  {
   "cell_type": "code",
   "execution_count": 28,
   "id": "7a93b5e1-da53-488f-bb78-c915642463ed",
   "metadata": {},
   "outputs": [],
   "source": [
    "# Fit a linear regression model\n",
    "regressor = LinearRegression()\n",
    "regressor.fit(X_train_pca, y_train)\n",
    "\n",
    "# Predict on test set\n",
    "y_pred = regressor.predict(X_test_pca)\n"
   ]
  },
  {
   "cell_type": "markdown",
   "id": "c87586e5-f038-4049-8166-bf7c0d017348",
   "metadata": {},
   "source": [
    "### Step 8: Evaluate the Model\n",
    "\n",
    "Evaluate the performance of the regression model using Mean Squared Error (MSE) or other metrics.\n"
   ]
  },
  {
   "cell_type": "code",
   "execution_count": 30,
   "id": "0a09fa4e-fe01-4c65-98e8-3e4ed3f15159",
   "metadata": {},
   "outputs": [
    {
     "name": "stdout",
     "output_type": "stream",
     "text": [
      "Mean Squared Error: 5.623408041767899\n"
     ]
    },
    {
     "data": {
      "image/png": "[encoded data removed]",
      "text/plain": [
       "<Figure size 640x480 with 1 Axes>"
      ]
     },
     "metadata": {},
     "output_type": "display_data"
    }
   ],
   "source": [
    "# Calculate the MSE\n",
    "mse = mean_squared_error(y_test, y_pred)\n",
    "print(f'Mean Squared Error: {mse}')\n",
    "\n",
    "# Optionally, visualize the results\n",
    "import matplotlib.pyplot as plt\n",
    "\n",
    "plt.scatter(y_test, y_pred)\n",
    "plt.xlabel('Actual Rings')\n",
    "plt.ylabel('Predicted Rings')\n",
    "plt.title('Actual vs Predicted')\n",
    "plt.show()\n"
   ]
  },
  {
   "cell_type": "markdown",
   "id": "c3b12103-7adf-4452-9145-c571351d2dd9",
   "metadata": {},
   "source": [
    "### Step 9 Tune the number of Principle Components:\n",
    "While retaining 95% of the variance is a common practice, we want to experiment with fewer or more components to see if it improves the model's performance. Sometimes, fewer components may lead to better generalization, while more components could overfit the data."
   ]
  },
  {
   "cell_type": "code",
   "execution_count": 32,
   "id": "05f524f3-d370-4676-b667-c6778233b500",
   "metadata": {},
   "outputs": [
    {
     "name": "stdout",
     "output_type": "stream",
     "text": [
      "MSE with 1 components: 6.101512073840964\n",
      "MSE with 2 components: 6.101348320895375\n",
      "MSE with 3 components: 6.103524680363612\n"
     ]
    }
   ],
   "source": [
    "# Experiment with different numbers of components\n",
    "for n in range(1, X_train_pca.shape[1]):\n",
    "    pca = PCA(n_components=n)\n",
    "    X_train_pca = pca.fit_transform(X_train_scaled)\n",
    "    X_test_pca = pca.transform(X_test_scaled)\n",
    "    \n",
    "    regressor.fit(X_train_pca, y_train)\n",
    "    y_pred = regressor.predict(X_test_pca)\n",
    "    mse = mean_squared_error(y_test, y_pred)\n",
    "    print(f'MSE with {n} components: {mse}')\n"
   ]
  },
  {
   "cell_type": "markdown",
   "id": "cf3a79b3-dabd-4036-8e1d-476f889d855c",
   "metadata": {},
   "source": [
    "###  Step 10: Add More Component\n",
    "Continue adding more components to see if the MSE improves after a certain threshold. \n",
    "Sometimes more components may be necessary to capture enough variance."
   ]
  },
  {
   "cell_type": "code",
   "execution_count": 34,
   "id": "961417b4-80ea-4ebe-bd52-a223aed9ff74",
   "metadata": {},
   "outputs": [],
   "source": [
    "for n in range(4, X_train_pca.shape[1]):\n",
    "    pca = PCA(n_components=n)\n",
    "    X_train_pca = pca.fit_transform(X_train_scaled)\n",
    "    X_test_pca = pca.transform(X_test_scaled)\n",
    "\n",
    "    regressor.fit(X_train_pca, y_train)\n",
    "    y_pred = regressor.predict(X_test_pca)\n",
    "    mse = mean_squared_error(y_test, y_pred)\n",
    "    print(f'MSE with {n} components: {mse}')\n"
   ]
  },
  {
   "cell_type": "code",
   "execution_count": 44,
   "id": "b498f0fe-64fd-4d41-a73d-c16a92547c8d",
   "metadata": {},
   "outputs": [
    {
     "name": "stdout",
     "output_type": "stream",
     "text": [
      "Model Parameters:  {'bootstrap': True, 'ccp_alpha': 0.0, 'criterion': 'squared_error', 'max_depth': None, 'max_features': 1.0, 'max_leaf_nodes': None, 'max_samples': None, 'min_impurity_decrease': 0.0, 'min_samples_leaf': 1, 'min_samples_split': 2, 'min_weight_fraction_leaf': 0.0, 'monotonic_cst': None, 'n_estimators': 100, 'n_jobs': None, 'oob_score': False, 'random_state': None, 'verbose': 0, 'warm_start': False}\n"
     ]
    }
   ],
   "source": [
    "\n",
    "# For model parameters\n",
    "print(\"Model Parameters: \", rf_model.get_params())"
   ]
  },
  {
   "cell_type": "code",
   "execution_count": 42,
   "id": "b57cce2c-bb68-4632-ba25-44f698529f57",
   "metadata": {},
   "outputs": [
    {
     "name": "stdout",
     "output_type": "stream",
     "text": [
      "Feature Importances:  [0.63666859 0.18086904 0.18246237]\n"
     ]
    }
   ],
   "source": [
    "# For feature importance\n",
    "print(\"Feature Importances: \", rf_model.feature_importances_)"
   ]
  },
  {
   "cell_type": "markdown",
   "id": "4a5162ba-122b-4fbc-9442-2787ee4acc24",
   "metadata": {},
   "source": [
    "### Step  12: Applying Regularazed Technique Ridge Regression "
   ]
  },
  {
   "cell_type": "code",
   "execution_count": 50,
   "id": "667134ea-dfe2-4244-a649-c8d1de933479",
   "metadata": {},
   "outputs": [
    {
     "name": "stdout",
     "output_type": "stream",
     "text": [
      "Best alpha value found: 100.0\n",
      "Best Ridge Regression MSE: 6.103519089089072\n"
     ]
    }
   ],
   "source": [
    "from sklearn.model_selection import GridSearchCV\n",
    "from sklearn.linear_model import Ridge\n",
    "from sklearn.metrics import mean_squared_error\n",
    "\n",
    "# Define the range of alpha values to tune\n",
    "alpha_values = {'alpha': [0.01, 0.1, 1.0, 10.0, 100.0, 1000.0]}\n",
    "\n",
    "# Initialize Ridge Regression\n",
    "ridge_model = Ridge()\n",
    "\n",
    "# Set up GridSearchCV with Ridge and cross-validation\n",
    "grid_search = GridSearchCV(ridge_model, alpha_values, scoring='neg_mean_squared_error', cv=5)\n",
    "\n",
    "# Fit the model to the training data (PCA transformed)\n",
    "grid_search.fit(X_train_pca, y_train)\n",
    "\n",
    "# Get the best alpha value\n",
    "best_alpha = grid_search.best_params_['alpha']\n",
    "print(f'Best alpha value found: {best_alpha}')\n",
    "\n",
    "# Make predictions with the best model\n",
    "y_pred_best_ridge = grid_search.predict(X_test_pca)\n",
    "\n",
    "# Calculate MSE\n",
    "best_ridge_mse = mean_squared_error(y_test, y_pred_best_ridge)\n",
    "print(f'Best Ridge Regression MSE: {best_ridge_mse}')\n"
   ]
  },
  {
   "cell_type": "code",
   "execution_count": 52,
   "id": "3ccfca28-d55f-4eee-9a1b-e383579e8841",
   "metadata": {},
   "outputs": [
    {
     "name": "stdout",
     "output_type": "stream",
     "text": [
      "Ridge Regression MSE: 6.103524622533376\n"
     ]
    }
   ],
   "source": [
    "from sklearn.linear_model import Ridge\n",
    "\n",
    "ridge_model = Ridge(alpha=1.0)  # You can tune alpha\n",
    "ridge_model.fit(X_train_pca, y_train)\n",
    "y_pred_ridge = ridge_model.predict(X_test_pca)\n",
    "mse_ridge = mean_squared_error(y_test, y_pred_ridge)\n",
    "print(f'Ridge Regression MSE: {mse_ridge}')\n"
   ]
  },
  {
   "cell_type": "markdown",
   "id": "9c1386f7-314e-48b8-ae04-4745f26f3e76",
   "metadata": {},
   "source": [
    "we can tune the alpha parameter to control the amount of regularization. A higher value of alpha means stronger regularization and more coefficient shrinkage."
   ]
  },
  {
   "cell_type": "markdown",
   "id": "71b2a31b-c8f8-48fd-91c3-089233b2156f",
   "metadata": {},
   "source": [
    "### Step 13 : Polynomial Features\n",
    "Introducing polynomial features in your data, \n",
    "especially if the relationship between predictors and target is non-linear."
   ]
  },
  {
   "cell_type": "code",
   "execution_count": 46,
   "id": "98646bfb-8035-4792-9132-896d8392d9f6",
   "metadata": {},
   "outputs": [
    {
     "name": "stdout",
     "output_type": "stream",
     "text": [
      "Polynomial Regression MSE: 5.818991438857451\n"
     ]
    }
   ],
   "source": [
    "from sklearn.preprocessing import PolynomialFeatures\n",
    "\n",
    "poly = PolynomialFeatures(degree=2)\n",
    "X_train_poly = poly.fit_transform(X_train_pca)\n",
    "X_test_poly = poly.transform(X_test_pca)\n",
    "\n",
    "regressor.fit(X_train_poly, y_train)\n",
    "y_pred_poly = regressor.predict(X_test_poly)\n",
    "mse_poly = mean_squared_error(y_test, y_pred_poly)\n",
    "print(f'Polynomial Regression MSE: {mse_poly}')\n"
   ]
  },
  {
   "cell_type": "markdown",
   "id": "643406f1-8f9c-4f4f-a723-7ac5945dbedd",
   "metadata": {},
   "source": [
    "### Step : Changing to the different model\n",
    "Using Random Forest Regressor to better capture the relationship of the data\n",
    "\n",
    "\n",
    "\n"
   ]
  },
  {
   "cell_type": "code",
   "execution_count": 38,
   "id": "e722ea10-e8b2-4f8f-b343-a84b5e6b3439",
   "metadata": {},
   "outputs": [
    {
     "name": "stdout",
     "output_type": "stream",
     "text": [
      "Random Forest MSE: 5.8893702698228765\n"
     ]
    }
   ],
   "source": [
    "from sklearn.ensemble import RandomForestRegressor\n",
    "\n",
    "rf_model = RandomForestRegressor()\n",
    "rf_model.fit(X_train_pca, y_train)\n",
    "y_pred_rf = rf_model.predict(X_test_pca)\n",
    "mse_rf = mean_squared_error(y_test, y_pred_rf)\n",
    "print(f'Random Forest MSE: {mse_rf}')\n"
   ]
  },
  {
   "cell_type": "markdown",
   "id": "154d4736-63c1-43cb-a598-0742dfeb6d2b",
   "metadata": {},
   "source": [
    "Polynomial Regression MSE: 5.82 and Random forest MSR is 5.89. In this case, the Polynomial Regression performs slightly better than Random Forest in terms of MSE (lower is better). However, the difference is not very large. For polygonial regression  prone to high variance if the degree is too high, leading to overfitting. However, since your MSE is relatively low, it appears that the model generalizes fairly well. For Random Forest casue, model typically has a lower variance because it averages predictions from multiple trees, but it can have higher bias if there are many shallow trees. As the degree of the polynomial increases, the model complexity increases, which can lead to overfitting, especially for a high degree. Random Forest   model handles complex, non-linear relationships inherently without needing feature engineering like polynomial terms. It tends to perform better with large datasets and more complex interactions. In terms of feature importance, It’s harder to interpret which individual features have the most impact, especially as polynomial degrees increase.Random Forest is better because fRicheature importance can be directly extracted, providing insight into which features contribute most to the prediction. In terms of prediction stability,if our data has non-linear relationships that are well captured by polynomial terms, this model can perform better. Random Forest model frovides more stable predictions in the presence of noise because it uses bagging and ensemble learning.\n",
    "Since we looked the polynomial regression MSE is 5.82, Random foreset MSE is 5.89 and Ridge Regression after tuning is 6.10. The Ridge Regression model, after tuning, has a slightly higher MSE compared to both the Polynomial Regression and Random Forest models. This suggests that while regularization might have helped avoid overfitting, the linear nature of the Ridge model doesn't capture the non-linearity in the dataset as well as the other models."
   ]
  },
  {
   "cell_type": "code",
   "execution_count": 54,
   "id": "9cc22ffe-19fe-413d-9257-6695110386c6",
   "metadata": {},
   "outputs": [
    {
     "name": "stdout",
     "output_type": "stream",
     "text": [
      "C:\\Users\\ghimi\\OneDrive\\Desktop\\PHD in Data Science\\4_Predictive Analysis_TIM8555\\Assignment 3\n"
     ]
    }
   ],
   "source": [
    "import os\n",
    "print(os.getcwd())  # This will print the current working directory\n"
   ]
  },
  {
   "cell_type": "code",
   "execution_count": null,
   "id": "ed527900-12f8-415c-93c4-db4cdc3c4946",
   "metadata": {},
   "outputs": [],
   "source": []
  }
 ],
 "metadata": {
  "kernelspec": {
   "display_name": "Python 3 (ipykernel)",
   "language": "python",
   "name": "python3"
  },
  "language_info": {
   "codemirror_mode": {
    "name": "ipython",
    "version": 3
   },
   "file_extension": ".py",
   "mimetype": "text/x-python",
   "name": "python",
   "nbconvert_exporter": "python",
   "pygments_lexer": "ipython3",
   "version": "3.12.4"
  }
 },
 "nbformat": 4,
 "nbformat_minor": 5
}
