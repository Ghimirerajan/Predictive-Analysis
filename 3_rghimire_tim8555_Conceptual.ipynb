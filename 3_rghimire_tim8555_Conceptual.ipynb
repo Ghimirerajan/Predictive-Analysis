{
 "cells": [
  {
   "cell_type": "markdown",
   "id": "d0d66b67-7a7c-47bf-97f9-7a471def7b64",
   "metadata": {},
   "source": [
    "# Conceptual Question #1 on page 283 of ISLR Python\n",
    "We perform best subset, forward stepwise, and backward stepwise\r\n",
    "selection on a single data set. For each approach, we obtain p + 1\r\n",
    "models, containing 0, 1, 2, . . . ,p predictors. Explain your answe\n",
    "\n",
    "\n",
    "\n",
    "Best subset selection will give you the optimal model for each subset size, but forward and backward stepwise selection might give you suboptimal models at certain sizes since they don’t explore all combinations of predictors.rs\n"
   ]
  },
  {
   "cell_type": "code",
   "execution_count": 4,
   "id": "3613a12f-45d2-49ad-818c-584a92fb183b",
   "metadata": {
    "editable": true,
    "slideshow": {
     "slide_type": ""
    },
    "tags": []
   },
   "outputs": [
    {
     "name": "stdout",
     "output_type": "stream",
     "text": [
      "C:\\Users\\ghimi\\OneDrive\\Desktop\\PHD in Data Science\\4_Predictive Analysis_TIM8555\\Assignment 3\n"
     ]
    }
   ],
   "source": [
    "import os\n",
    "os.chdir(\"C:/Users/ghimi/OneDrive/Desktop/PHD in Data Science/4_Predictive Analysis_TIM8555/Assignment 3\")\n",
    "print(os.getcwd())  # Verify change\n"
   ]
  },
  {
   "cell_type": "markdown",
   "id": "a87d7ac2-ce9c-47f0-88b1-3fb116611a4f",
   "metadata": {},
   "source": [
    "##  Question A \n",
    "Which of the three models with k predictors has the smallest \n",
    "training RS ?\n",
    "\n",
    "The model with the smallest training Residual Sum of Squares (RSS) among the three approaches (Best Subset, For Since it explores all combinations of predictors, it is guaranteed to find the model with the lowest training RSS for any given number of predictors \n",
    "𝑘 The model selected by Best Subset Selection for 𝑘 predictors will have the smallest possible training RSS compared to models selected by Forward Stepwise and Backward Stepwise for the same k.?"
   ]
  },
  {
   "cell_type": "markdown",
   "id": "91e031e6-23a7-49d5-9bc4-b834a356b6de",
   "metadata": {},
   "source": [
    "## Question B \n",
    "Which of the three models with k predictors has the smallest \n",
    "test RSS\n",
    "\n",
    "In practice, Forward Stepwise Selection and Backward Stepwise Selection often yield lower test RSS than Best Subset, especially when \n",
    "𝑘 is large, because they are less likely to overfit by taking a more restrained approach to adding/removing predictors.The true best model in terms of test RSS would need to be determined using cross-validation or an independent test set. Ultimately, cross-validation or using a separate test set is the best way to determine which of these methods gives the model with the smallest test RSS in a specific case.?"
   ]
  },
  {
   "cell_type": "markdown",
   "id": "65953fd4-f8cb-4e0f-bdd9-7c76667626b2",
   "metadata": {},
   "source": [
    "## C (i)  True or False?\n",
    "The predictors in the k-variable model identified by forward \n",
    "stepwise are a subset of the predictors in the (k+1)-variable\r\n",
    "model identified by forward stepwise selection"
   ]
  },
  {
   "cell_type": "markdown",
   "id": "209bfd44-47d0-4839-b8ba-f6738ad5e506",
   "metadata": {},
   "source": [
    "## C(ii) True or False? : True\n",
    "The predictors in the k-variable model identified by backward \n",
    "stepwise are a subset of the predictors in the (k + 1)-\r\n",
    "variable model identified by backward stepwise selectio\n",
    "\n",
    "In forward stepwise selection, the k-variable model is always a subset of the (k+1)-variable model. Start with no predictors: Forward stepwise selection begins with an empty model (the null model).\n",
    "\n",
    "Add one predictor at a time: At each step, it adds the predictor that most improves the model according to some criterion (e.g., AIC, BIC, adjusted \n",
    "$𝑅^2$ .\n",
    "\n",
    "Build up: The process is sequential, meaning that once a predictor is added to the model, it remains in the model in all future steps.n."
   ]
  },
  {
   "cell_type": "markdown",
   "id": "bf24c25e-e369-4819-aa4c-b83fd660182b",
   "metadata": {},
   "source": [
    "## C(iiI) True or False? False\n",
    "The predictors in the k-variable model identified by forward \n",
    "stepwise are a subset of the predictors in the (k+1)-variable\r\n",
    "model identified by backward stepwise selecti\n",
    "\n",
    "In forward stepwise selection, the predictors are added sequentially, meaning the k-variable model is always a subset of the (k+1)-variable model identified by the same method. However, in backward stepwise selection, the process works in reverse: it starts with all predictors and removes the least significant ones.\n",
    "\n",
    "The predictors in the k-variable model identified by forward stepwise selection are not necessarily a subset of those in the \n",
    "(k+1)-variable model identified by backward stepwise selection, so the statement is false.\n",
    "onn.."
   ]
  },
  {
   "cell_type": "markdown",
   "id": "e74ed0fb-f6b9-458e-8e01-2b2199e02334",
   "metadata": {},
   "source": [
    "## C(iv) True or False? False\n",
    "The predictors in the k-variable model identified by backward \n",
    "stepwise are a subset of the predictors in the (k + 1)-\r\n",
    "variable model identified by forward stepwise selection\n",
    "\n",
    "The predictors in the k-variable model identified by backward stepwise selection are not necessarily a subset of the predictors in the (k+1)-variable model identified by forward stepwise selection. Here’s why:\n",
    "\n",
    "Backward stepwise selection starts with all 𝑝 predictors and removes one predictor at a time, based on the least contribution to the model.\n",
    "Forward stepwise selection starts with no predictors and adds one predictor at a time, based on the most significant improvement.\n",
    "\n",
    "The statement is false because the predictor sets in the two models may differ.."
   ]
  },
  {
   "cell_type": "markdown",
   "id": "bdf54b5a-9fd5-482f-9394-0eee78076b0b",
   "metadata": {},
   "source": [
    "## C(v) True or False? False\n",
    "The predictors in the k-variable model identified by best \n",
    "subset are a subset of the predictors in the (k + 1)-variable\r\n",
    "model identified by best subset selectio\n",
    "\n",
    "Best subset selection examines all possible combinations of predictors for each model size \n",
    "𝑘 It then selects the model that has the best performance (e.g., lowest AIC, BIC, or highest adjusted \n",
    "$𝑅^2$) for each subset size.\n",
    "\n",
    "As a result, the \n",
    "𝑘\n",
    "k-variable model might include a completely different combination of predictors than the \n",
    "(k+1)-variable model. The method does not require that the predictors in the k-variable model are a subset of those in the \n",
    "(k+1)-variable model because it independently finds the best model for each size.\n",
    "\n",
    "The statement is false because, in best subset selection, the predictors in the \n",
    "𝑘- variable model are not necessarily a subset of the predictors in the \n",
    "(k+1)-variable model.\n",
    "n.."
   ]
  },
  {
   "cell_type": "code",
   "execution_count": 15,
   "id": "8d2cd245-acbd-499d-9354-6d0919ace0f5",
   "metadata": {},
   "outputs": [
    {
     "name": "stdout",
     "output_type": "stream",
     "text": [
      "C:\\Users\\ghimi\\OneDrive\\Desktop\\PHD in Data Science\\4_Predictive Analysis_TIM8555\\Assignment 3\n"
     ]
    }
   ],
   "source": [
    "import os\n",
    "print(os.getcwd())  # This will print the current working directory\n"
   ]
  },
  {
   "cell_type": "code",
   "execution_count": null,
   "id": "9cc22ffe-19fe-413d-9257-6695110386c6",
   "metadata": {},
   "outputs": [],
   "source": []
  },
  {
   "cell_type": "code",
   "execution_count": null,
   "id": "3fdbd7d2-7788-47f9-9b5c-f434cb715c43",
   "metadata": {},
   "outputs": [],
   "source": []
  }
 ],
 "metadata": {
  "kernelspec": {
   "display_name": "Python 3 (ipykernel)",
   "language": "python",
   "name": "python3"
  },
  "language_info": {
   "codemirror_mode": {
    "name": "ipython",
    "version": 3
   },
   "file_extension": ".py",
   "mimetype": "text/x-python",
   "name": "python",
   "nbconvert_exporter": "python",
   "pygments_lexer": "ipython3",
   "version": "3.12.4"
  }
 },
 "nbformat": 4,
 "nbformat_minor": 5
}
