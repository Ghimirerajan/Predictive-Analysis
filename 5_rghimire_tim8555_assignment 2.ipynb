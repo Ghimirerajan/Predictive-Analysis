{
 "cells": [
  {
   "cell_type": "markdown",
   "id": "f6474133-0d39-4031-850c-ae8affd2a15b",
   "metadata": {},
   "source": [
    "# Multi_Class_Prediction_Rajan_Ghimire_2024_09_27\n"
   ]
  },
  {
   "cell_type": "code",
   "execution_count": 2,
   "id": "a95ba71d-85eb-4aa4-89a6-9868439f5695",
   "metadata": {},
   "outputs": [],
   "source": [
    "# Import necessary libraries\n",
    "import pandas as pd\n",
    "import numpy as np\n",
    "from sklearn.linear_model import LogisticRegression\n",
    "from sklearn.discriminant_analysis import LinearDiscriminantAnalysis, QuadraticDiscriminantAnalysis\n",
    "from sklearn.naive_bayes import BernoulliNB\n",
    "from sklearn.svm import LinearSVC\n",
    "from sklearn.model_selection import train_test_split, RepeatedStratifiedKFold, cross_val_score\n",
    "from sklearn.preprocessing import StandardScaler, LabelEncoder\n",
    "from sklearn.metrics import classification_report\n",
    "import matplotlib.pyplot as plt\n",
    "import seaborn as sns\n"
   ]
  },
  {
   "attachments": {},
   "cell_type": "markdown",
   "id": "4b693572-8c9b-45a9-b7d7-d2d9a98111c9",
   "metadata": {
    "editable": true,
    "slideshow": {
     "slide_type": ""
    },
    "tags": []
   },
   "source": [
    "#Multi_Class_Prediction_Rajan_Ghimire_2024_09_27\n",
    "\n",
    "# Import necessary libraries\n",
    "import pandas as pd\n",
    "import numpy as np\n",
    "from sklearn.linear_model import LogisticRegression\n",
    "from sklearn.discriminant_analysis import LinearDiscriminantAnalysis, QuadraticDiscriminantAnalysis\n",
    "from sklearn.naive_bayes import BernoulliNB\n",
    "from sklearn.svm import LinearSVC\n",
    "from sklearn.model_selection import train_test_split, RepeatedStratifiedKFold, cross_val_score\n",
    "from sklearn.preprocessing import StandardScaler, LabelEncoder\n",
    "from sklearn.metrics import classification_report"
   ]
  },
  {
   "cell_type": "code",
   "execution_count": 4,
   "id": "f9052640-72e0-4dbc-890b-e6c3f8dd914b",
   "metadata": {},
   "outputs": [],
   "source": [
    "df= pd.read_csv(\"C:/Users/ghimi/OneDrive/Desktop/PHD in Data Science/4_Predictive Analysis_TIM8555/Assignment_5/train.csv\")\n",
    "df_test = pd.read_csv(\"C:/Users/ghimi/OneDrive/Desktop/PHD in Data Science/4_Predictive Analysis_TIM8555/Assignment_5/test.csv\")"
   ]
  },
  {
   "cell_type": "code",
   "execution_count": 5,
   "id": "a5828d13-275d-4e75-9c5f-dba84a501e07",
   "metadata": {},
   "outputs": [
    {
     "data": {
      "text/plain": [
       "id                                0\n",
       "Gender                            0\n",
       "Age                               0\n",
       "Height                            0\n",
       "Weight                            0\n",
       "family_history_with_overweight    0\n",
       "FAVC                              0\n",
       "FCVC                              0\n",
       "NCP                               0\n",
       "CAEC                              0\n",
       "SMOKE                             0\n",
       "CH2O                              0\n",
       "SCC                               0\n",
       "FAF                               0\n",
       "TUE                               0\n",
       "CALC                              0\n",
       "MTRANS                            0\n",
       "NObeyesdad                        0\n",
       "dtype: int64"
      ]
     },
     "execution_count": 5,
     "metadata": {},
     "output_type": "execute_result"
    }
   ],
   "source": [
    "# Check for missing values\n",
    "df.isnull().sum()"
   ]
  },
  {
   "cell_type": "code",
   "execution_count": 6,
   "id": "e2036d68-9061-4afc-8c09-29309f05f18a",
   "metadata": {},
   "outputs": [
    {
     "data": {
      "text/plain": [
       "id                                0\n",
       "Gender                            0\n",
       "Age                               0\n",
       "Height                            0\n",
       "Weight                            0\n",
       "family_history_with_overweight    0\n",
       "FAVC                              0\n",
       "FCVC                              0\n",
       "NCP                               0\n",
       "CAEC                              0\n",
       "SMOKE                             0\n",
       "CH2O                              0\n",
       "SCC                               0\n",
       "FAF                               0\n",
       "TUE                               0\n",
       "CALC                              0\n",
       "MTRANS                            0\n",
       "NObeyesdad                        0\n",
       "dtype: int64"
      ]
     },
     "execution_count": 6,
     "metadata": {},
     "output_type": "execute_result"
    }
   ],
   "source": [
    "# Check for missing values in our test data\n",
    "df.isnull().sum()"
   ]
  },
  {
   "cell_type": "code",
   "execution_count": 7,
   "id": "775bfe30-feda-46a0-bf6d-5b5c87003829",
   "metadata": {},
   "outputs": [
    {
     "name": "stdout",
     "output_type": "stream",
     "text": [
      "Number of duplicated rows: 0\n"
     ]
    }
   ],
   "source": [
    "# Check for duplicated values\n",
    "\n",
    "duplicates = df.duplicated()\n",
    "\n",
    "# Count the number of duplicated rows\n",
    "num_duplicates = duplicates.sum()\n",
    "\n",
    "print(\"Number of duplicated rows:\", num_duplicates)"
   ]
  },
  {
   "cell_type": "code",
   "execution_count": 8,
   "id": "82e796d9-363d-49e8-a329-1cfb4cb3eede",
   "metadata": {},
   "outputs": [
    {
     "data": {
      "image/png": "[encoded data removed]",
      "text/plain": [
       "<Figure size 400x400 with 1 Axes>"
      ]
     },
     "metadata": {},
     "output_type": "display_data"
    }
   ],
   "source": [
    "# Visualize the distribution of the target variable (NObeyesdad)\n",
    "\n",
    "plt.figure(figsize=(4, 4))\n",
    "sns.countplot(x='NObeyesdad', data=df)\n",
    "plt.title('Distribution of Obesity Levels')\n",
    "plt.xticks(rotation=90)\n",
    "plt.show()"
   ]
  },
  {
   "cell_type": "code",
   "execution_count": 9,
   "id": "ba2b94bc-da95-4362-98a7-329987210962",
   "metadata": {},
   "outputs": [
    {
     "data": {
      "text/html": [
       "<div>\n",
       "<style scoped>\n",
       "    .dataframe tbody tr th:only-of-type {\n",
       "        vertical-align: middle;\n",
       "    }\n",
       "\n",
       "    .dataframe tbody tr th {\n",
       "        vertical-align: top;\n",
       "    }\n",
       "\n",
       "    .dataframe thead th {\n",
       "        text-align: right;\n",
       "    }\n",
       "</style>\n",
       "<table border=\"1\" class=\"dataframe\">\n",
       "  <thead>\n",
       "    <tr style=\"text-align: right;\">\n",
       "      <th></th>\n",
       "      <th>id</th>\n",
       "      <th>Gender</th>\n",
       "      <th>Age</th>\n",
       "      <th>Height</th>\n",
       "      <th>Weight</th>\n",
       "      <th>family_history_with_overweight</th>\n",
       "      <th>FAVC</th>\n",
       "      <th>FCVC</th>\n",
       "      <th>NCP</th>\n",
       "      <th>CAEC</th>\n",
       "      <th>SMOKE</th>\n",
       "      <th>CH2O</th>\n",
       "      <th>SCC</th>\n",
       "      <th>FAF</th>\n",
       "      <th>TUE</th>\n",
       "      <th>CALC</th>\n",
       "      <th>MTRANS</th>\n",
       "      <th>NObeyesdad</th>\n",
       "    </tr>\n",
       "  </thead>\n",
       "  <tbody>\n",
       "    <tr>\n",
       "      <th>0</th>\n",
       "      <td>0</td>\n",
       "      <td>Male</td>\n",
       "      <td>24.443011</td>\n",
       "      <td>1.699998</td>\n",
       "      <td>81.669950</td>\n",
       "      <td>yes</td>\n",
       "      <td>yes</td>\n",
       "      <td>2.000000</td>\n",
       "      <td>2.983297</td>\n",
       "      <td>Sometimes</td>\n",
       "      <td>no</td>\n",
       "      <td>2.763573</td>\n",
       "      <td>no</td>\n",
       "      <td>0.000000</td>\n",
       "      <td>0.976473</td>\n",
       "      <td>Sometimes</td>\n",
       "      <td>Public_Transportation</td>\n",
       "      <td>Overweight_Level_II</td>\n",
       "    </tr>\n",
       "    <tr>\n",
       "      <th>1</th>\n",
       "      <td>1</td>\n",
       "      <td>Female</td>\n",
       "      <td>18.000000</td>\n",
       "      <td>1.560000</td>\n",
       "      <td>57.000000</td>\n",
       "      <td>yes</td>\n",
       "      <td>yes</td>\n",
       "      <td>2.000000</td>\n",
       "      <td>3.000000</td>\n",
       "      <td>Frequently</td>\n",
       "      <td>no</td>\n",
       "      <td>2.000000</td>\n",
       "      <td>no</td>\n",
       "      <td>1.000000</td>\n",
       "      <td>1.000000</td>\n",
       "      <td>no</td>\n",
       "      <td>Automobile</td>\n",
       "      <td>Normal_Weight</td>\n",
       "    </tr>\n",
       "    <tr>\n",
       "      <th>2</th>\n",
       "      <td>2</td>\n",
       "      <td>Female</td>\n",
       "      <td>18.000000</td>\n",
       "      <td>1.711460</td>\n",
       "      <td>50.165754</td>\n",
       "      <td>yes</td>\n",
       "      <td>yes</td>\n",
       "      <td>1.880534</td>\n",
       "      <td>1.411685</td>\n",
       "      <td>Sometimes</td>\n",
       "      <td>no</td>\n",
       "      <td>1.910378</td>\n",
       "      <td>no</td>\n",
       "      <td>0.866045</td>\n",
       "      <td>1.673584</td>\n",
       "      <td>no</td>\n",
       "      <td>Public_Transportation</td>\n",
       "      <td>Insufficient_Weight</td>\n",
       "    </tr>\n",
       "    <tr>\n",
       "      <th>3</th>\n",
       "      <td>3</td>\n",
       "      <td>Female</td>\n",
       "      <td>20.952737</td>\n",
       "      <td>1.710730</td>\n",
       "      <td>131.274851</td>\n",
       "      <td>yes</td>\n",
       "      <td>yes</td>\n",
       "      <td>3.000000</td>\n",
       "      <td>3.000000</td>\n",
       "      <td>Sometimes</td>\n",
       "      <td>no</td>\n",
       "      <td>1.674061</td>\n",
       "      <td>no</td>\n",
       "      <td>1.467863</td>\n",
       "      <td>0.780199</td>\n",
       "      <td>Sometimes</td>\n",
       "      <td>Public_Transportation</td>\n",
       "      <td>Obesity_Type_III</td>\n",
       "    </tr>\n",
       "    <tr>\n",
       "      <th>4</th>\n",
       "      <td>4</td>\n",
       "      <td>Male</td>\n",
       "      <td>31.641081</td>\n",
       "      <td>1.914186</td>\n",
       "      <td>93.798055</td>\n",
       "      <td>yes</td>\n",
       "      <td>yes</td>\n",
       "      <td>2.679664</td>\n",
       "      <td>1.971472</td>\n",
       "      <td>Sometimes</td>\n",
       "      <td>no</td>\n",
       "      <td>1.979848</td>\n",
       "      <td>no</td>\n",
       "      <td>1.967973</td>\n",
       "      <td>0.931721</td>\n",
       "      <td>Sometimes</td>\n",
       "      <td>Public_Transportation</td>\n",
       "      <td>Overweight_Level_II</td>\n",
       "    </tr>\n",
       "  </tbody>\n",
       "</table>\n",
       "</div>"
      ],
      "text/plain": [
       "   id  Gender        Age    Height      Weight family_history_with_overweight  \\\n",
       "0   0    Male  24.443011  1.699998   81.669950                            yes   \n",
       "1   1  Female  18.000000  1.560000   57.000000                            yes   \n",
       "2   2  Female  18.000000  1.711460   50.165754                            yes   \n",
       "3   3  Female  20.952737  1.710730  131.274851                            yes   \n",
       "4   4    Male  31.641081  1.914186   93.798055                            yes   \n",
       "\n",
       "  FAVC      FCVC       NCP        CAEC SMOKE      CH2O SCC       FAF  \\\n",
       "0  yes  2.000000  2.983297   Sometimes    no  2.763573  no  0.000000   \n",
       "1  yes  2.000000  3.000000  Frequently    no  2.000000  no  1.000000   \n",
       "2  yes  1.880534  1.411685   Sometimes    no  1.910378  no  0.866045   \n",
       "3  yes  3.000000  3.000000   Sometimes    no  1.674061  no  1.467863   \n",
       "4  yes  2.679664  1.971472   Sometimes    no  1.979848  no  1.967973   \n",
       "\n",
       "        TUE       CALC                 MTRANS           NObeyesdad  \n",
       "0  0.976473  Sometimes  Public_Transportation  Overweight_Level_II  \n",
       "1  1.000000         no             Automobile        Normal_Weight  \n",
       "2  1.673584         no  Public_Transportation  Insufficient_Weight  \n",
       "3  0.780199  Sometimes  Public_Transportation     Obesity_Type_III  \n",
       "4  0.931721  Sometimes  Public_Transportation  Overweight_Level_II  "
      ]
     },
     "execution_count": 9,
     "metadata": {},
     "output_type": "execute_result"
    }
   ],
   "source": [
    "df.head()\n"
   ]
  },
  {
   "cell_type": "code",
   "execution_count": 10,
   "id": "a88cc5c4-5539-41e1-8e64-985008b30948",
   "metadata": {},
   "outputs": [
    {
     "data": {
      "text/html": [
       "<div>\n",
       "<style scoped>\n",
       "    .dataframe tbody tr th:only-of-type {\n",
       "        vertical-align: middle;\n",
       "    }\n",
       "\n",
       "    .dataframe tbody tr th {\n",
       "        vertical-align: top;\n",
       "    }\n",
       "\n",
       "    .dataframe thead th {\n",
       "        text-align: right;\n",
       "    }\n",
       "</style>\n",
       "<table border=\"1\" class=\"dataframe\">\n",
       "  <thead>\n",
       "    <tr style=\"text-align: right;\">\n",
       "      <th></th>\n",
       "      <th>id</th>\n",
       "      <th>Gender</th>\n",
       "      <th>Age</th>\n",
       "      <th>Height</th>\n",
       "      <th>Weight</th>\n",
       "      <th>family_history_with_overweight</th>\n",
       "      <th>FAVC</th>\n",
       "      <th>FCVC</th>\n",
       "      <th>NCP</th>\n",
       "      <th>CAEC</th>\n",
       "      <th>SMOKE</th>\n",
       "      <th>CH2O</th>\n",
       "      <th>SCC</th>\n",
       "      <th>FAF</th>\n",
       "      <th>TUE</th>\n",
       "      <th>CALC</th>\n",
       "      <th>MTRANS</th>\n",
       "    </tr>\n",
       "  </thead>\n",
       "  <tbody>\n",
       "    <tr>\n",
       "      <th>0</th>\n",
       "      <td>20758</td>\n",
       "      <td>Male</td>\n",
       "      <td>26.899886</td>\n",
       "      <td>1.848294</td>\n",
       "      <td>120.644178</td>\n",
       "      <td>yes</td>\n",
       "      <td>yes</td>\n",
       "      <td>2.938616</td>\n",
       "      <td>3.000000</td>\n",
       "      <td>Sometimes</td>\n",
       "      <td>no</td>\n",
       "      <td>2.825629</td>\n",
       "      <td>no</td>\n",
       "      <td>0.855400</td>\n",
       "      <td>0.000000</td>\n",
       "      <td>Sometimes</td>\n",
       "      <td>Public_Transportation</td>\n",
       "    </tr>\n",
       "    <tr>\n",
       "      <th>1</th>\n",
       "      <td>20759</td>\n",
       "      <td>Female</td>\n",
       "      <td>21.000000</td>\n",
       "      <td>1.600000</td>\n",
       "      <td>66.000000</td>\n",
       "      <td>yes</td>\n",
       "      <td>yes</td>\n",
       "      <td>2.000000</td>\n",
       "      <td>1.000000</td>\n",
       "      <td>Sometimes</td>\n",
       "      <td>no</td>\n",
       "      <td>3.000000</td>\n",
       "      <td>no</td>\n",
       "      <td>1.000000</td>\n",
       "      <td>0.000000</td>\n",
       "      <td>Sometimes</td>\n",
       "      <td>Public_Transportation</td>\n",
       "    </tr>\n",
       "    <tr>\n",
       "      <th>2</th>\n",
       "      <td>20760</td>\n",
       "      <td>Female</td>\n",
       "      <td>26.000000</td>\n",
       "      <td>1.643355</td>\n",
       "      <td>111.600553</td>\n",
       "      <td>yes</td>\n",
       "      <td>yes</td>\n",
       "      <td>3.000000</td>\n",
       "      <td>3.000000</td>\n",
       "      <td>Sometimes</td>\n",
       "      <td>no</td>\n",
       "      <td>2.621877</td>\n",
       "      <td>no</td>\n",
       "      <td>0.000000</td>\n",
       "      <td>0.250502</td>\n",
       "      <td>Sometimes</td>\n",
       "      <td>Public_Transportation</td>\n",
       "    </tr>\n",
       "    <tr>\n",
       "      <th>3</th>\n",
       "      <td>20761</td>\n",
       "      <td>Male</td>\n",
       "      <td>20.979254</td>\n",
       "      <td>1.553127</td>\n",
       "      <td>103.669116</td>\n",
       "      <td>yes</td>\n",
       "      <td>yes</td>\n",
       "      <td>2.000000</td>\n",
       "      <td>2.977909</td>\n",
       "      <td>Sometimes</td>\n",
       "      <td>no</td>\n",
       "      <td>2.786417</td>\n",
       "      <td>no</td>\n",
       "      <td>0.094851</td>\n",
       "      <td>0.000000</td>\n",
       "      <td>Sometimes</td>\n",
       "      <td>Public_Transportation</td>\n",
       "    </tr>\n",
       "    <tr>\n",
       "      <th>4</th>\n",
       "      <td>20762</td>\n",
       "      <td>Female</td>\n",
       "      <td>26.000000</td>\n",
       "      <td>1.627396</td>\n",
       "      <td>104.835346</td>\n",
       "      <td>yes</td>\n",
       "      <td>yes</td>\n",
       "      <td>3.000000</td>\n",
       "      <td>3.000000</td>\n",
       "      <td>Sometimes</td>\n",
       "      <td>no</td>\n",
       "      <td>2.653531</td>\n",
       "      <td>no</td>\n",
       "      <td>0.000000</td>\n",
       "      <td>0.741069</td>\n",
       "      <td>Sometimes</td>\n",
       "      <td>Public_Transportation</td>\n",
       "    </tr>\n",
       "  </tbody>\n",
       "</table>\n",
       "</div>"
      ],
      "text/plain": [
       "      id  Gender        Age    Height      Weight  \\\n",
       "0  20758    Male  26.899886  1.848294  120.644178   \n",
       "1  20759  Female  21.000000  1.600000   66.000000   \n",
       "2  20760  Female  26.000000  1.643355  111.600553   \n",
       "3  20761    Male  20.979254  1.553127  103.669116   \n",
       "4  20762  Female  26.000000  1.627396  104.835346   \n",
       "\n",
       "  family_history_with_overweight FAVC      FCVC       NCP       CAEC SMOKE  \\\n",
       "0                            yes  yes  2.938616  3.000000  Sometimes    no   \n",
       "1                            yes  yes  2.000000  1.000000  Sometimes    no   \n",
       "2                            yes  yes  3.000000  3.000000  Sometimes    no   \n",
       "3                            yes  yes  2.000000  2.977909  Sometimes    no   \n",
       "4                            yes  yes  3.000000  3.000000  Sometimes    no   \n",
       "\n",
       "       CH2O SCC       FAF       TUE       CALC                 MTRANS  \n",
       "0  2.825629  no  0.855400  0.000000  Sometimes  Public_Transportation  \n",
       "1  3.000000  no  1.000000  0.000000  Sometimes  Public_Transportation  \n",
       "2  2.621877  no  0.000000  0.250502  Sometimes  Public_Transportation  \n",
       "3  2.786417  no  0.094851  0.000000  Sometimes  Public_Transportation  \n",
       "4  2.653531  no  0.000000  0.741069  Sometimes  Public_Transportation  "
      ]
     },
     "execution_count": 10,
     "metadata": {},
     "output_type": "execute_result"
    }
   ],
   "source": [
    "df_test.head()\n"
   ]
  },
  {
   "cell_type": "code",
   "execution_count": 11,
   "id": "465d0234-8b96-42f6-9d63-4c9abb9645d9",
   "metadata": {},
   "outputs": [],
   "source": [
    "df=df.drop('id', axis=1)"
   ]
  },
  {
   "cell_type": "code",
   "execution_count": 12,
   "id": "286c7961-73c3-48cd-98f1-49225b446d2f",
   "metadata": {},
   "outputs": [],
   "source": [
    "test_id= df_test['id']"
   ]
  },
  {
   "cell_type": "code",
   "execution_count": 13,
   "id": "9808f13e-80b8-4685-a390-28f69a165181",
   "metadata": {},
   "outputs": [],
   "source": [
    "df_test=df_test.drop('id', axis=1)"
   ]
  },
  {
   "cell_type": "code",
   "execution_count": 14,
   "id": "98fd0d31-996c-466d-aedd-41a965a06baf",
   "metadata": {},
   "outputs": [
    {
     "name": "stdout",
     "output_type": "stream",
     "text": [
      "<class 'pandas.core.frame.DataFrame'>\n",
      "RangeIndex: 20758 entries, 0 to 20757\n",
      "Data columns (total 17 columns):\n",
      " #   Column                          Non-Null Count  Dtype  \n",
      "---  ------                          --------------  -----  \n",
      " 0   Gender                          20758 non-null  object \n",
      " 1   Age                             20758 non-null  float64\n",
      " 2   Height                          20758 non-null  float64\n",
      " 3   Weight                          20758 non-null  float64\n",
      " 4   family_history_with_overweight  20758 non-null  object \n",
      " 5   FAVC                            20758 non-null  object \n",
      " 6   FCVC                            20758 non-null  float64\n",
      " 7   NCP                             20758 non-null  float64\n",
      " 8   CAEC                            20758 non-null  object \n",
      " 9   SMOKE                           20758 non-null  object \n",
      " 10  CH2O                            20758 non-null  float64\n",
      " 11  SCC                             20758 non-null  object \n",
      " 12  FAF                             20758 non-null  float64\n",
      " 13  TUE                             20758 non-null  float64\n",
      " 14  CALC                            20758 non-null  object \n",
      " 15  MTRANS                          20758 non-null  object \n",
      " 16  NObeyesdad                      20758 non-null  object \n",
      "dtypes: float64(8), object(9)\n",
      "memory usage: 2.7+ MB\n"
     ]
    }
   ],
   "source": [
    "df.info()"
   ]
  },
  {
   "cell_type": "code",
   "execution_count": 15,
   "id": "e3f3a9ac-4190-4be4-829b-03bf34e63d3d",
   "metadata": {},
   "outputs": [
    {
     "name": "stdout",
     "output_type": "stream",
     "text": [
      "<class 'pandas.core.frame.DataFrame'>\n",
      "RangeIndex: 13840 entries, 0 to 13839\n",
      "Data columns (total 16 columns):\n",
      " #   Column                          Non-Null Count  Dtype  \n",
      "---  ------                          --------------  -----  \n",
      " 0   Gender                          13840 non-null  object \n",
      " 1   Age                             13840 non-null  float64\n",
      " 2   Height                          13840 non-null  float64\n",
      " 3   Weight                          13840 non-null  float64\n",
      " 4   family_history_with_overweight  13840 non-null  object \n",
      " 5   FAVC                            13840 non-null  object \n",
      " 6   FCVC                            13840 non-null  float64\n",
      " 7   NCP                             13840 non-null  float64\n",
      " 8   CAEC                            13840 non-null  object \n",
      " 9   SMOKE                           13840 non-null  object \n",
      " 10  CH2O                            13840 non-null  float64\n",
      " 11  SCC                             13840 non-null  object \n",
      " 12  FAF                             13840 non-null  float64\n",
      " 13  TUE                             13840 non-null  float64\n",
      " 14  CALC                            13840 non-null  object \n",
      " 15  MTRANS                          13840 non-null  object \n",
      "dtypes: float64(8), object(8)\n",
      "memory usage: 1.7+ MB\n"
     ]
    }
   ],
   "source": [
    "df_test.info()"
   ]
  },
  {
   "cell_type": "code",
   "execution_count": 16,
   "id": "19a38408-0d24-4f04-8ddb-1a7d6892c32f",
   "metadata": {},
   "outputs": [
    {
     "data": {
      "text/plain": [
       "Gender                               2\n",
       "Age                               1703\n",
       "Height                            1833\n",
       "Weight                            1979\n",
       "family_history_with_overweight       2\n",
       "FAVC                                 2\n",
       "FCVC                               934\n",
       "NCP                                689\n",
       "CAEC                                 4\n",
       "SMOKE                                2\n",
       "CH2O                              1506\n",
       "SCC                                  2\n",
       "FAF                               1360\n",
       "TUE                               1297\n",
       "CALC                                 3\n",
       "MTRANS                               5\n",
       "NObeyesdad                           7\n",
       "dtype: int64"
      ]
     },
     "execution_count": 16,
     "metadata": {},
     "output_type": "execute_result"
    }
   ],
   "source": [
    "df.nunique()\n"
   ]
  },
  {
   "cell_type": "code",
   "execution_count": 17,
   "id": "12863814-1cc9-41ff-8036-cf49580fc934",
   "metadata": {},
   "outputs": [
    {
     "data": {
      "text/plain": [
       "Index(['Gender', 'family_history_with_overweight', 'FAVC', 'CAEC', 'SMOKE',\n",
       "       'SCC', 'CALC', 'MTRANS', 'NObeyesdad'],\n",
       "      dtype='object')"
      ]
     },
     "execution_count": 17,
     "metadata": {},
     "output_type": "execute_result"
    }
   ],
   "source": [
    "categorical_columns=df.select_dtypes(include=['object'])\n",
    "categorical_columns.columns\n"
   ]
  },
  {
   "cell_type": "code",
   "execution_count": 18,
   "id": "81419588-1452-4df3-93c1-9eab119138d1",
   "metadata": {},
   "outputs": [
    {
     "data": {
      "text/plain": [
       "Index(['Gender', 'family_history_with_overweight', 'FAVC', 'CAEC', 'SMOKE',\n",
       "       'SCC', 'CALC', 'MTRANS'],\n",
       "      dtype='object')"
      ]
     },
     "execution_count": 18,
     "metadata": {},
     "output_type": "execute_result"
    }
   ],
   "source": [
    "categorical_columns_test=df_test.select_dtypes(include=['object'])\n",
    "categorical_columns_test.columns"
   ]
  },
  {
   "cell_type": "code",
   "execution_count": 19,
   "id": "3b15de54-85cd-4716-8574-0146aad4187e",
   "metadata": {},
   "outputs": [
    {
     "data": {
      "text/plain": [
       "array(['Overweight_Level_II', 'Normal_Weight', 'Insufficient_Weight',\n",
       "       'Obesity_Type_III', 'Obesity_Type_II', 'Overweight_Level_I',\n",
       "       'Obesity_Type_I'], dtype=object)"
      ]
     },
     "execution_count": 19,
     "metadata": {},
     "output_type": "execute_result"
    }
   ],
   "source": [
    "df['NObeyesdad'].unique()"
   ]
  },
  {
   "cell_type": "code",
   "execution_count": 20,
   "id": "8157f91c-bfea-464a-abe1-19ea4b2d3504",
   "metadata": {},
   "outputs": [],
   "source": [
    "target_dictionary = {'Insufficient_Weight':'0',\n",
    "                   'Normal_Weight':'1', 'Overweight_Level_I': '2', 'Overweight_Level_II': '3', 'Obesity_Type_I' : '4' , 'Obesity_Type_II' : '5', 'Obesity_Type_III': '6'}\n",
    "                    "
   ]
  },
  {
   "cell_type": "code",
   "execution_count": 21,
   "id": "ec722e3a-bd08-4713-b802-ade3ef75e72e",
   "metadata": {},
   "outputs": [],
   "source": [
    "df['NObeyesdad']= df['NObeyesdad'].replace(target_dictionary).astype('int64')"
   ]
  },
  {
   "cell_type": "code",
   "execution_count": 22,
   "id": "ce8773c1-9177-4e1a-98ec-e2efebe040f7",
   "metadata": {},
   "outputs": [
    {
     "data": {
      "text/plain": [
       "array([3, 1, 0, 6, 5, 2, 4], dtype=int64)"
      ]
     },
     "execution_count": 22,
     "metadata": {},
     "output_type": "execute_result"
    }
   ],
   "source": [
    "df['NObeyesdad'].unique()"
   ]
  },
  {
   "cell_type": "code",
   "execution_count": 23,
   "id": "614d5017-a135-47bc-8951-9ae2bb64ee23",
   "metadata": {},
   "outputs": [
    {
     "data": {
      "text/plain": [
       "array(['Public_Transportation', 'Automobile', 'Walking', 'Motorbike',\n",
       "       'Bike'], dtype=object)"
      ]
     },
     "execution_count": 23,
     "metadata": {},
     "output_type": "execute_result"
    }
   ],
   "source": [
    "df['MTRANS'].unique()"
   ]
  },
  {
   "cell_type": "code",
   "execution_count": 24,
   "id": "fa311770-c2a0-4741-a07f-4a443c9e770b",
   "metadata": {},
   "outputs": [],
   "source": [
    "target_dictionary = {'Bike':'0',\n",
    "                   'Walking':'1', 'Motorbike': '2', 'Automobile': '3', 'Public_Transportation' : '4' }\n",
    "                    "
   ]
  },
  {
   "cell_type": "code",
   "execution_count": 25,
   "id": "d6a78abd-33a5-46b5-902c-6cee01bace49",
   "metadata": {},
   "outputs": [],
   "source": [
    "df['MTRANS']= df['MTRANS'].replace(target_dictionary).astype('int')\n",
    "df_test['MTRANS']= df_test['MTRANS'].replace(target_dictionary).astype('int')"
   ]
  },
  {
   "cell_type": "code",
   "execution_count": 26,
   "id": "40a9ecc3-8217-48a7-82e0-b908d0ebe158",
   "metadata": {},
   "outputs": [
    {
     "data": {
      "text/plain": [
       "array([4, 3, 1, 2, 0])"
      ]
     },
     "execution_count": 26,
     "metadata": {},
     "output_type": "execute_result"
    }
   ],
   "source": [
    "df['MTRANS'].unique()"
   ]
  },
  {
   "cell_type": "code",
   "execution_count": 27,
   "id": "647be446-023b-4eaf-bae6-f2bf89d7c933",
   "metadata": {},
   "outputs": [
    {
     "data": {
      "text/plain": [
       "array(['Sometimes', 'Frequently', 'no', 'Always'], dtype=object)"
      ]
     },
     "execution_count": 27,
     "metadata": {},
     "output_type": "execute_result"
    }
   ],
   "source": [
    "df['CAEC'].unique()"
   ]
  },
  {
   "cell_type": "code",
   "execution_count": 28,
   "id": "ca7d3757-466e-4395-a165-99af2067a895",
   "metadata": {},
   "outputs": [
    {
     "data": {
      "text/plain": [
       "array([3, 1, 0, 2])"
      ]
     },
     "execution_count": 28,
     "metadata": {},
     "output_type": "execute_result"
    }
   ],
   "source": [
    "target_dictionary = {'no':'0',\n",
    "                   'Frequently':'1', 'Always': '2', 'Sometimes': '3' }\n",
    "\n",
    "df['CAEC']= df['CAEC'].replace(target_dictionary).astype('int')\n",
    "df_test['CAEC']= df_test['CAEC'].replace(target_dictionary).astype('int')\n",
    "df['CAEC'].unique()"
   ]
  },
  {
   "cell_type": "code",
   "execution_count": 29,
   "id": "63399e27-b4a8-465a-8efa-495cec23ebe2",
   "metadata": {},
   "outputs": [
    {
     "data": {
      "text/plain": [
       "array(['Sometimes', 'no', 'Frequently'], dtype=object)"
      ]
     },
     "execution_count": 29,
     "metadata": {},
     "output_type": "execute_result"
    }
   ],
   "source": [
    "df['CALC'].unique()"
   ]
  },
  {
   "cell_type": "code",
   "execution_count": 30,
   "id": "78110467-1c0a-4d57-930f-c2c681802e94",
   "metadata": {},
   "outputs": [
    {
     "data": {
      "text/plain": [
       "array([1, 0, 2])"
      ]
     },
     "execution_count": 30,
     "metadata": {},
     "output_type": "execute_result"
    }
   ],
   "source": [
    "target_dictionary = {'no':'0',\n",
    "                   'Frequently':'2', 'Always': '3', 'Sometimes': '1' }\n",
    "\n",
    "df['CALC']= df['CALC'].replace(target_dictionary).astype('int')\n",
    "df_test['CALC']=df_test['CALC'].replace(target_dictionary).astype('int')\n",
    "df['CALC'].unique()"
   ]
  },
  {
   "cell_type": "code",
   "execution_count": 31,
   "id": "392bd452-ac4b-4db7-9dec-c0a61622b108",
   "metadata": {},
   "outputs": [
    {
     "data": {
      "text/plain": [
       "Index(['Gender', 'family_history_with_overweight', 'FAVC', 'CAEC', 'SMOKE',\n",
       "       'SCC', 'CALC', 'MTRANS', 'NObeyesdad'],\n",
       "      dtype='object')"
      ]
     },
     "execution_count": 31,
     "metadata": {},
     "output_type": "execute_result"
    }
   ],
   "source": [
    "categorical_columns.columns"
   ]
  },
  {
   "cell_type": "code",
   "execution_count": 32,
   "id": "2b635bfd-e8ac-491e-bca8-17944f6ce8ea",
   "metadata": {},
   "outputs": [
    {
     "data": {
      "text/plain": [
       "Index(['Gender', 'family_history_with_overweight', 'FAVC', 'SMOKE', 'SCC'], dtype='object')"
      ]
     },
     "execution_count": 32,
     "metadata": {},
     "output_type": "execute_result"
    }
   ],
   "source": [
    "categorical_columns=df.select_dtypes(include=['object'])\n",
    "categorical_columns.columns"
   ]
  },
  {
   "cell_type": "code",
   "execution_count": 33,
   "id": "649fc6ff-a41d-463f-8843-232d067869d5",
   "metadata": {},
   "outputs": [
    {
     "data": {
      "text/plain": [
       "Index(['Gender', 'family_history_with_overweight', 'FAVC', 'SMOKE', 'SCC'], dtype='object')"
      ]
     },
     "execution_count": 33,
     "metadata": {},
     "output_type": "execute_result"
    }
   ],
   "source": [
    "categorical_columns_test=df.select_dtypes(include=['object'])\n",
    "categorical_columns_test.columns"
   ]
  },
  {
   "cell_type": "code",
   "execution_count": 34,
   "id": "d3bf0a5b-6cb6-4ba7-abda-bd26877bb44a",
   "metadata": {},
   "outputs": [],
   "source": [
    "df=pd.get_dummies(df)"
   ]
  },
  {
   "cell_type": "code",
   "execution_count": 35,
   "id": "723c0cdd-270e-459d-b313-4979a5e7c265",
   "metadata": {},
   "outputs": [
    {
     "data": {
      "text/plain": [
       "Index(['Age', 'Height', 'Weight', 'FCVC', 'NCP', 'CAEC', 'CH2O', 'FAF', 'TUE',\n",
       "       'CALC', 'MTRANS', 'NObeyesdad', 'Gender_Female', 'Gender_Male',\n",
       "       'family_history_with_overweight_no',\n",
       "       'family_history_with_overweight_yes', 'FAVC_no', 'FAVC_yes', 'SMOKE_no',\n",
       "       'SMOKE_yes', 'SCC_no', 'SCC_yes'],\n",
       "      dtype='object')"
      ]
     },
     "execution_count": 35,
     "metadata": {},
     "output_type": "execute_result"
    }
   ],
   "source": [
    "df.columns"
   ]
  },
  {
   "cell_type": "code",
   "execution_count": 36,
   "id": "c344f668-c338-4c11-b47b-5744ee1b9580",
   "metadata": {},
   "outputs": [
    {
     "data": {
      "text/plain": [
       "Index(['Age', 'Height', 'Weight', 'FCVC', 'NCP', 'CAEC', 'CH2O', 'FAF', 'TUE',\n",
       "       'CALC', 'MTRANS', 'Gender_Female', 'Gender_Male',\n",
       "       'family_history_with_overweight_no',\n",
       "       'family_history_with_overweight_yes', 'FAVC_no', 'FAVC_yes', 'SMOKE_no',\n",
       "       'SMOKE_yes', 'SCC_no', 'SCC_yes'],\n",
       "      dtype='object')"
      ]
     },
     "execution_count": 36,
     "metadata": {},
     "output_type": "execute_result"
    }
   ],
   "source": [
    "df_test=pd.get_dummies(df_test)\n",
    "df_test.columns"
   ]
  },
  {
   "cell_type": "code",
   "execution_count": 37,
   "id": "abf7cc08-9d99-4f68-86b6-5ba5a3098373",
   "metadata": {},
   "outputs": [
    {
     "name": "stdout",
     "output_type": "stream",
     "text": [
      "<class 'pandas.core.frame.DataFrame'>\n",
      "RangeIndex: 20758 entries, 0 to 20757\n",
      "Data columns (total 22 columns):\n",
      " #   Column                              Non-Null Count  Dtype  \n",
      "---  ------                              --------------  -----  \n",
      " 0   Age                                 20758 non-null  float64\n",
      " 1   Height                              20758 non-null  float64\n",
      " 2   Weight                              20758 non-null  float64\n",
      " 3   FCVC                                20758 non-null  float64\n",
      " 4   NCP                                 20758 non-null  float64\n",
      " 5   CAEC                                20758 non-null  int32  \n",
      " 6   CH2O                                20758 non-null  float64\n",
      " 7   FAF                                 20758 non-null  float64\n",
      " 8   TUE                                 20758 non-null  float64\n",
      " 9   CALC                                20758 non-null  int32  \n",
      " 10  MTRANS                              20758 non-null  int32  \n",
      " 11  NObeyesdad                          20758 non-null  int64  \n",
      " 12  Gender_Female                       20758 non-null  bool   \n",
      " 13  Gender_Male                         20758 non-null  bool   \n",
      " 14  family_history_with_overweight_no   20758 non-null  bool   \n",
      " 15  family_history_with_overweight_yes  20758 non-null  bool   \n",
      " 16  FAVC_no                             20758 non-null  bool   \n",
      " 17  FAVC_yes                            20758 non-null  bool   \n",
      " 18  SMOKE_no                            20758 non-null  bool   \n",
      " 19  SMOKE_yes                           20758 non-null  bool   \n",
      " 20  SCC_no                              20758 non-null  bool   \n",
      " 21  SCC_yes                             20758 non-null  bool   \n",
      "dtypes: bool(10), float64(8), int32(3), int64(1)\n",
      "memory usage: 1.9 MB\n"
     ]
    }
   ],
   "source": [
    "df.info()"
   ]
  },
  {
   "cell_type": "code",
   "execution_count": 38,
   "id": "f4ec9137-7d4d-40e0-9b8c-9383bb9a1975",
   "metadata": {},
   "outputs": [],
   "source": [
    "df=df.drop(columns=['family_history_with_overweight_no', 'SMOKE_no', 'SCC_yes','Gender_Male','FAVC_no'])                                                              "
   ]
  },
  {
   "cell_type": "code",
   "execution_count": 39,
   "id": "f2b5df8f-811b-4296-bcd8-9ee3154bc754",
   "metadata": {},
   "outputs": [],
   "source": [
    "df_test=df_test.drop(columns=['family_history_with_overweight_no', 'SMOKE_no', 'SCC_yes','Gender_Male','FAVC_no'])                                                              "
   ]
  },
  {
   "cell_type": "code",
   "execution_count": 40,
   "id": "11086ecf-39a3-4f7b-b225-1b88d8d8e615",
   "metadata": {},
   "outputs": [
    {
     "name": "stdout",
     "output_type": "stream",
     "text": [
      "<class 'pandas.core.frame.DataFrame'>\n",
      "RangeIndex: 20758 entries, 0 to 20757\n",
      "Data columns (total 17 columns):\n",
      " #   Column                              Non-Null Count  Dtype  \n",
      "---  ------                              --------------  -----  \n",
      " 0   Age                                 20758 non-null  float64\n",
      " 1   Height                              20758 non-null  float64\n",
      " 2   Weight                              20758 non-null  float64\n",
      " 3   FCVC                                20758 non-null  float64\n",
      " 4   NCP                                 20758 non-null  float64\n",
      " 5   CAEC                                20758 non-null  int32  \n",
      " 6   CH2O                                20758 non-null  float64\n",
      " 7   FAF                                 20758 non-null  float64\n",
      " 8   TUE                                 20758 non-null  float64\n",
      " 9   CALC                                20758 non-null  int32  \n",
      " 10  MTRANS                              20758 non-null  int32  \n",
      " 11  NObeyesdad                          20758 non-null  int64  \n",
      " 12  Gender_Female                       20758 non-null  bool   \n",
      " 13  family_history_with_overweight_yes  20758 non-null  bool   \n",
      " 14  FAVC_yes                            20758 non-null  bool   \n",
      " 15  SMOKE_yes                           20758 non-null  bool   \n",
      " 16  SCC_no                              20758 non-null  bool   \n",
      "dtypes: bool(5), float64(8), int32(3), int64(1)\n",
      "memory usage: 1.8 MB\n"
     ]
    }
   ],
   "source": [
    "df.info()"
   ]
  },
  {
   "cell_type": "code",
   "execution_count": 41,
   "id": "9fb26d29-b951-49fa-88a3-51ca38f7ddb3",
   "metadata": {},
   "outputs": [
    {
     "name": "stdout",
     "output_type": "stream",
     "text": [
      "<class 'pandas.core.frame.DataFrame'>\n",
      "RangeIndex: 13840 entries, 0 to 13839\n",
      "Data columns (total 16 columns):\n",
      " #   Column                              Non-Null Count  Dtype  \n",
      "---  ------                              --------------  -----  \n",
      " 0   Age                                 13840 non-null  float64\n",
      " 1   Height                              13840 non-null  float64\n",
      " 2   Weight                              13840 non-null  float64\n",
      " 3   FCVC                                13840 non-null  float64\n",
      " 4   NCP                                 13840 non-null  float64\n",
      " 5   CAEC                                13840 non-null  int32  \n",
      " 6   CH2O                                13840 non-null  float64\n",
      " 7   FAF                                 13840 non-null  float64\n",
      " 8   TUE                                 13840 non-null  float64\n",
      " 9   CALC                                13840 non-null  int32  \n",
      " 10  MTRANS                              13840 non-null  int32  \n",
      " 11  Gender_Female                       13840 non-null  bool   \n",
      " 12  family_history_with_overweight_yes  13840 non-null  bool   \n",
      " 13  FAVC_yes                            13840 non-null  bool   \n",
      " 14  SMOKE_yes                           13840 non-null  bool   \n",
      " 15  SCC_no                              13840 non-null  bool   \n",
      "dtypes: bool(5), float64(8), int32(3)\n",
      "memory usage: 1.1 MB\n"
     ]
    }
   ],
   "source": [
    "df_test.info()"
   ]
  },
  {
   "cell_type": "code",
   "execution_count": 42,
   "id": "76c42915-4cc9-442a-807d-a6d6359730fd",
   "metadata": {},
   "outputs": [],
   "source": [
    "df['BMI_Sqrt']= (( df['Weight']) ** 0.5)/(df['Height']**1)"
   ]
  },
  {
   "cell_type": "code",
   "execution_count": 43,
   "id": "517c9fa5-17f1-45dd-83d4-3389cc47fc6f",
   "metadata": {},
   "outputs": [],
   "source": [
    "df_test['BMI_Sqrt']= (( df_test['Weight']) ** 0.5)/(df['Height']**1)"
   ]
  },
  {
   "cell_type": "code",
   "execution_count": 44,
   "id": "6b72e054-8253-44dc-a4bc-fcd5164d3f05",
   "metadata": {},
   "outputs": [],
   "source": [
    "# Compute the correlation Matrix\n",
    "df = df.astype(float)\n",
    "df_test = df_test.astype(float)\n",
    "\n",
    "corr_matrix=df.corr()"
   ]
  },
  {
   "cell_type": "code",
   "execution_count": 45,
   "id": "bdbe74ad-bb3b-4f88-805c-c8220fff7d5b",
   "metadata": {},
   "outputs": [
    {
     "data": {
      "text/html": [
       "<div>\n",
       "<style scoped>\n",
       "    .dataframe tbody tr th:only-of-type {\n",
       "        vertical-align: middle;\n",
       "    }\n",
       "\n",
       "    .dataframe tbody tr th {\n",
       "        vertical-align: top;\n",
       "    }\n",
       "\n",
       "    .dataframe thead th {\n",
       "        text-align: right;\n",
       "    }\n",
       "</style>\n",
       "<table border=\"1\" class=\"dataframe\">\n",
       "  <thead>\n",
       "    <tr style=\"text-align: right;\">\n",
       "      <th></th>\n",
       "      <th>Age</th>\n",
       "      <th>Height</th>\n",
       "      <th>Weight</th>\n",
       "      <th>FCVC</th>\n",
       "      <th>NCP</th>\n",
       "      <th>CAEC</th>\n",
       "      <th>CH2O</th>\n",
       "      <th>FAF</th>\n",
       "      <th>TUE</th>\n",
       "      <th>CALC</th>\n",
       "      <th>MTRANS</th>\n",
       "      <th>NObeyesdad</th>\n",
       "      <th>Gender_Female</th>\n",
       "      <th>family_history_with_overweight_yes</th>\n",
       "      <th>FAVC_yes</th>\n",
       "      <th>SMOKE_yes</th>\n",
       "      <th>SCC_no</th>\n",
       "      <th>BMI_Sqrt</th>\n",
       "    </tr>\n",
       "  </thead>\n",
       "  <tbody>\n",
       "    <tr>\n",
       "      <th>Age</th>\n",
       "      <td>1.000000</td>\n",
       "      <td>-0.011713</td>\n",
       "      <td>0.283381</td>\n",
       "      <td>0.034414</td>\n",
       "      <td>-0.048479</td>\n",
       "      <td>0.199334</td>\n",
       "      <td>-0.016325</td>\n",
       "      <td>-0.192259</td>\n",
       "      <td>-0.296154</td>\n",
       "      <td>0.070323</td>\n",
       "      <td>-0.332291</td>\n",
       "      <td>0.356211</td>\n",
       "      <td>-0.066530</td>\n",
       "      <td>0.261575</td>\n",
       "      <td>0.056848</td>\n",
       "      <td>0.056006</td>\n",
       "      <td>0.108855</td>\n",
       "      <td>0.339627</td>\n",
       "    </tr>\n",
       "    <tr>\n",
       "      <th>Height</th>\n",
       "      <td>-0.011713</td>\n",
       "      <td>1.000000</td>\n",
       "      <td>0.416677</td>\n",
       "      <td>-0.071546</td>\n",
       "      <td>0.191383</td>\n",
       "      <td>0.136845</td>\n",
       "      <td>0.183706</td>\n",
       "      <td>0.295278</td>\n",
       "      <td>0.076433</td>\n",
       "      <td>0.089138</td>\n",
       "      <td>-0.069900</td>\n",
       "      <td>0.150141</td>\n",
       "      <td>-0.623507</td>\n",
       "      <td>0.228137</td>\n",
       "      <td>0.115566</td>\n",
       "      <td>0.069748</td>\n",
       "      <td>0.095923</td>\n",
       "      <td>0.101907</td>\n",
       "    </tr>\n",
       "    <tr>\n",
       "      <th>Weight</th>\n",
       "      <td>0.283381</td>\n",
       "      <td>0.416677</td>\n",
       "      <td>1.000000</td>\n",
       "      <td>0.245682</td>\n",
       "      <td>0.095947</td>\n",
       "      <td>0.416091</td>\n",
       "      <td>0.317914</td>\n",
       "      <td>-0.084845</td>\n",
       "      <td>-0.086471</td>\n",
       "      <td>0.216673</td>\n",
       "      <td>0.085919</td>\n",
       "      <td>0.921250</td>\n",
       "      <td>-0.118613</td>\n",
       "      <td>0.514147</td>\n",
       "      <td>0.228770</td>\n",
       "      <td>0.040416</td>\n",
       "      <td>0.185116</td>\n",
       "      <td>0.940355</td>\n",
       "    </tr>\n",
       "    <tr>\n",
       "      <th>FCVC</th>\n",
       "      <td>0.034414</td>\n",
       "      <td>-0.071546</td>\n",
       "      <td>0.245682</td>\n",
       "      <td>1.000000</td>\n",
       "      <td>0.113349</td>\n",
       "      <td>0.028185</td>\n",
       "      <td>0.101299</td>\n",
       "      <td>-0.089822</td>\n",
       "      <td>-0.147843</td>\n",
       "      <td>0.128793</td>\n",
       "      <td>0.068414</td>\n",
       "      <td>0.272933</td>\n",
       "      <td>0.312766</td>\n",
       "      <td>0.047756</td>\n",
       "      <td>0.006952</td>\n",
       "      <td>-0.012191</td>\n",
       "      <td>-0.022120</td>\n",
       "      <td>0.270943</td>\n",
       "    </tr>\n",
       "    <tr>\n",
       "      <th>NCP</th>\n",
       "      <td>-0.048479</td>\n",
       "      <td>0.191383</td>\n",
       "      <td>0.095947</td>\n",
       "      <td>0.113349</td>\n",
       "      <td>1.000000</td>\n",
       "      <td>0.002170</td>\n",
       "      <td>0.080949</td>\n",
       "      <td>0.100871</td>\n",
       "      <td>0.067459</td>\n",
       "      <td>0.099421</td>\n",
       "      <td>-0.040851</td>\n",
       "      <td>0.027227</td>\n",
       "      <td>-0.039468</td>\n",
       "      <td>0.044778</td>\n",
       "      <td>0.011522</td>\n",
       "      <td>0.006820</td>\n",
       "      <td>-0.006633</td>\n",
       "      <td>0.033361</td>\n",
       "    </tr>\n",
       "    <tr>\n",
       "      <th>CAEC</th>\n",
       "      <td>0.199334</td>\n",
       "      <td>0.136845</td>\n",
       "      <td>0.416091</td>\n",
       "      <td>0.028185</td>\n",
       "      <td>0.002170</td>\n",
       "      <td>1.000000</td>\n",
       "      <td>0.121849</td>\n",
       "      <td>-0.097974</td>\n",
       "      <td>-0.007822</td>\n",
       "      <td>0.044553</td>\n",
       "      <td>-0.014859</td>\n",
       "      <td>0.437162</td>\n",
       "      <td>-0.045358</td>\n",
       "      <td>0.335975</td>\n",
       "      <td>0.127701</td>\n",
       "      <td>-0.003756</td>\n",
       "      <td>0.122454</td>\n",
       "      <td>0.425402</td>\n",
       "    </tr>\n",
       "    <tr>\n",
       "      <th>CH2O</th>\n",
       "      <td>-0.016325</td>\n",
       "      <td>0.183706</td>\n",
       "      <td>0.317914</td>\n",
       "      <td>0.101299</td>\n",
       "      <td>0.080949</td>\n",
       "      <td>0.121849</td>\n",
       "      <td>1.000000</td>\n",
       "      <td>0.082932</td>\n",
       "      <td>-0.010654</td>\n",
       "      <td>0.082735</td>\n",
       "      <td>0.028445</td>\n",
       "      <td>0.273154</td>\n",
       "      <td>-0.053298</td>\n",
       "      <td>0.191588</td>\n",
       "      <td>0.039167</td>\n",
       "      <td>-0.023475</td>\n",
       "      <td>0.031720</td>\n",
       "      <td>0.290857</td>\n",
       "    </tr>\n",
       "    <tr>\n",
       "      <th>FAF</th>\n",
       "      <td>-0.192259</td>\n",
       "      <td>0.295278</td>\n",
       "      <td>-0.084845</td>\n",
       "      <td>-0.089822</td>\n",
       "      <td>0.100871</td>\n",
       "      <td>-0.097974</td>\n",
       "      <td>0.082932</td>\n",
       "      <td>1.000000</td>\n",
       "      <td>0.021213</td>\n",
       "      <td>-0.090076</td>\n",
       "      <td>-0.095286</td>\n",
       "      <td>-0.234745</td>\n",
       "      <td>-0.238399</td>\n",
       "      <td>-0.094414</td>\n",
       "      <td>-0.067030</td>\n",
       "      <td>0.008374</td>\n",
       "      <td>-0.061828</td>\n",
       "      <td>-0.210465</td>\n",
       "    </tr>\n",
       "    <tr>\n",
       "      <th>TUE</th>\n",
       "      <td>-0.296154</td>\n",
       "      <td>0.076433</td>\n",
       "      <td>-0.086471</td>\n",
       "      <td>-0.147843</td>\n",
       "      <td>0.067459</td>\n",
       "      <td>-0.007822</td>\n",
       "      <td>-0.010654</td>\n",
       "      <td>0.021213</td>\n",
       "      <td>1.000000</td>\n",
       "      <td>-0.079790</td>\n",
       "      <td>0.077647</td>\n",
       "      <td>-0.121009</td>\n",
       "      <td>-0.058696</td>\n",
       "      <td>0.005762</td>\n",
       "      <td>0.034843</td>\n",
       "      <td>-0.016093</td>\n",
       "      <td>0.007917</td>\n",
       "      <td>-0.120528</td>\n",
       "    </tr>\n",
       "    <tr>\n",
       "      <th>CALC</th>\n",
       "      <td>0.070323</td>\n",
       "      <td>0.089138</td>\n",
       "      <td>0.216673</td>\n",
       "      <td>0.128793</td>\n",
       "      <td>0.099421</td>\n",
       "      <td>0.044553</td>\n",
       "      <td>0.082735</td>\n",
       "      <td>-0.090076</td>\n",
       "      <td>-0.079790</td>\n",
       "      <td>1.000000</td>\n",
       "      <td>0.024604</td>\n",
       "      <td>0.189361</td>\n",
       "      <td>0.037345</td>\n",
       "      <td>-0.002330</td>\n",
       "      <td>0.080184</td>\n",
       "      <td>0.023254</td>\n",
       "      <td>-0.000208</td>\n",
       "      <td>0.194256</td>\n",
       "    </tr>\n",
       "    <tr>\n",
       "      <th>MTRANS</th>\n",
       "      <td>-0.332291</td>\n",
       "      <td>-0.069900</td>\n",
       "      <td>0.085919</td>\n",
       "      <td>0.068414</td>\n",
       "      <td>-0.040851</td>\n",
       "      <td>-0.014859</td>\n",
       "      <td>0.028445</td>\n",
       "      <td>-0.095286</td>\n",
       "      <td>0.077647</td>\n",
       "      <td>0.024604</td>\n",
       "      <td>1.000000</td>\n",
       "      <td>0.110909</td>\n",
       "      <td>0.151283</td>\n",
       "      <td>0.009644</td>\n",
       "      <td>0.091496</td>\n",
       "      <td>-0.023099</td>\n",
       "      <td>0.015129</td>\n",
       "      <td>0.101925</td>\n",
       "    </tr>\n",
       "    <tr>\n",
       "      <th>NObeyesdad</th>\n",
       "      <td>0.356211</td>\n",
       "      <td>0.150141</td>\n",
       "      <td>0.921250</td>\n",
       "      <td>0.272933</td>\n",
       "      <td>0.027227</td>\n",
       "      <td>0.437162</td>\n",
       "      <td>0.273154</td>\n",
       "      <td>-0.234745</td>\n",
       "      <td>-0.121009</td>\n",
       "      <td>0.189361</td>\n",
       "      <td>0.110909</td>\n",
       "      <td>1.000000</td>\n",
       "      <td>0.067699</td>\n",
       "      <td>0.522026</td>\n",
       "      <td>0.215401</td>\n",
       "      <td>0.013501</td>\n",
       "      <td>0.184959</td>\n",
       "      <td>0.963909</td>\n",
       "    </tr>\n",
       "    <tr>\n",
       "      <th>Gender_Female</th>\n",
       "      <td>-0.066530</td>\n",
       "      <td>-0.623507</td>\n",
       "      <td>-0.118613</td>\n",
       "      <td>0.312766</td>\n",
       "      <td>-0.039468</td>\n",
       "      <td>-0.045358</td>\n",
       "      <td>-0.053298</td>\n",
       "      <td>-0.238399</td>\n",
       "      <td>-0.058696</td>\n",
       "      <td>0.037345</td>\n",
       "      <td>0.151283</td>\n",
       "      <td>0.067699</td>\n",
       "      <td>1.000000</td>\n",
       "      <td>-0.095786</td>\n",
       "      <td>-0.021812</td>\n",
       "      <td>-0.063349</td>\n",
       "      <td>-0.061442</td>\n",
       "      <td>0.066347</td>\n",
       "    </tr>\n",
       "    <tr>\n",
       "      <th>family_history_with_overweight_yes</th>\n",
       "      <td>0.261575</td>\n",
       "      <td>0.228137</td>\n",
       "      <td>0.514147</td>\n",
       "      <td>0.047756</td>\n",
       "      <td>0.044778</td>\n",
       "      <td>0.335975</td>\n",
       "      <td>0.191588</td>\n",
       "      <td>-0.094414</td>\n",
       "      <td>0.005762</td>\n",
       "      <td>-0.002330</td>\n",
       "      <td>0.009644</td>\n",
       "      <td>0.522026</td>\n",
       "      <td>-0.095786</td>\n",
       "      <td>1.000000</td>\n",
       "      <td>0.152154</td>\n",
       "      <td>0.018782</td>\n",
       "      <td>0.166760</td>\n",
       "      <td>0.511946</td>\n",
       "    </tr>\n",
       "    <tr>\n",
       "      <th>FAVC_yes</th>\n",
       "      <td>0.056848</td>\n",
       "      <td>0.115566</td>\n",
       "      <td>0.228770</td>\n",
       "      <td>0.006952</td>\n",
       "      <td>0.011522</td>\n",
       "      <td>0.127701</td>\n",
       "      <td>0.039167</td>\n",
       "      <td>-0.067030</td>\n",
       "      <td>0.034843</td>\n",
       "      <td>0.080184</td>\n",
       "      <td>0.091496</td>\n",
       "      <td>0.215401</td>\n",
       "      <td>-0.021812</td>\n",
       "      <td>0.152154</td>\n",
       "      <td>1.000000</td>\n",
       "      <td>-0.016009</td>\n",
       "      <td>0.111897</td>\n",
       "      <td>0.212433</td>\n",
       "    </tr>\n",
       "    <tr>\n",
       "      <th>SMOKE_yes</th>\n",
       "      <td>0.056006</td>\n",
       "      <td>0.069748</td>\n",
       "      <td>0.040416</td>\n",
       "      <td>-0.012191</td>\n",
       "      <td>0.006820</td>\n",
       "      <td>-0.003756</td>\n",
       "      <td>-0.023475</td>\n",
       "      <td>0.008374</td>\n",
       "      <td>-0.016093</td>\n",
       "      <td>0.023254</td>\n",
       "      <td>-0.023099</td>\n",
       "      <td>0.013501</td>\n",
       "      <td>-0.063349</td>\n",
       "      <td>0.018782</td>\n",
       "      <td>-0.016009</td>\n",
       "      <td>1.000000</td>\n",
       "      <td>-0.017185</td>\n",
       "      <td>0.015481</td>\n",
       "    </tr>\n",
       "    <tr>\n",
       "      <th>SCC_no</th>\n",
       "      <td>0.108855</td>\n",
       "      <td>0.095923</td>\n",
       "      <td>0.185116</td>\n",
       "      <td>-0.022120</td>\n",
       "      <td>-0.006633</td>\n",
       "      <td>0.122454</td>\n",
       "      <td>0.031720</td>\n",
       "      <td>-0.061828</td>\n",
       "      <td>0.007917</td>\n",
       "      <td>-0.000208</td>\n",
       "      <td>0.015129</td>\n",
       "      <td>0.184959</td>\n",
       "      <td>-0.061442</td>\n",
       "      <td>0.166760</td>\n",
       "      <td>0.111897</td>\n",
       "      <td>-0.017185</td>\n",
       "      <td>1.000000</td>\n",
       "      <td>0.178804</td>\n",
       "    </tr>\n",
       "    <tr>\n",
       "      <th>BMI_Sqrt</th>\n",
       "      <td>0.339627</td>\n",
       "      <td>0.101907</td>\n",
       "      <td>0.940355</td>\n",
       "      <td>0.270943</td>\n",
       "      <td>0.033361</td>\n",
       "      <td>0.425402</td>\n",
       "      <td>0.290857</td>\n",
       "      <td>-0.210465</td>\n",
       "      <td>-0.120528</td>\n",
       "      <td>0.194256</td>\n",
       "      <td>0.101925</td>\n",
       "      <td>0.963909</td>\n",
       "      <td>0.066347</td>\n",
       "      <td>0.511946</td>\n",
       "      <td>0.212433</td>\n",
       "      <td>0.015481</td>\n",
       "      <td>0.178804</td>\n",
       "      <td>1.000000</td>\n",
       "    </tr>\n",
       "  </tbody>\n",
       "</table>\n",
       "</div>"
      ],
      "text/plain": [
       "                                         Age    Height    Weight      FCVC  \\\n",
       "Age                                 1.000000 -0.011713  0.283381  0.034414   \n",
       "Height                             -0.011713  1.000000  0.416677 -0.071546   \n",
       "Weight                              0.283381  0.416677  1.000000  0.245682   \n",
       "FCVC                                0.034414 -0.071546  0.245682  1.000000   \n",
       "NCP                                -0.048479  0.191383  0.095947  0.113349   \n",
       "CAEC                                0.199334  0.136845  0.416091  0.028185   \n",
       "CH2O                               -0.016325  0.183706  0.317914  0.101299   \n",
       "FAF                                -0.192259  0.295278 -0.084845 -0.089822   \n",
       "TUE                                -0.296154  0.076433 -0.086471 -0.147843   \n",
       "CALC                                0.070323  0.089138  0.216673  0.128793   \n",
       "MTRANS                             -0.332291 -0.069900  0.085919  0.068414   \n",
       "NObeyesdad                          0.356211  0.150141  0.921250  0.272933   \n",
       "Gender_Female                      -0.066530 -0.623507 -0.118613  0.312766   \n",
       "family_history_with_overweight_yes  0.261575  0.228137  0.514147  0.047756   \n",
       "FAVC_yes                            0.056848  0.115566  0.228770  0.006952   \n",
       "SMOKE_yes                           0.056006  0.069748  0.040416 -0.012191   \n",
       "SCC_no                              0.108855  0.095923  0.185116 -0.022120   \n",
       "BMI_Sqrt                            0.339627  0.101907  0.940355  0.270943   \n",
       "\n",
       "                                         NCP      CAEC      CH2O       FAF  \\\n",
       "Age                                -0.048479  0.199334 -0.016325 -0.192259   \n",
       "Height                              0.191383  0.136845  0.183706  0.295278   \n",
       "Weight                              0.095947  0.416091  0.317914 -0.084845   \n",
       "FCVC                                0.113349  0.028185  0.101299 -0.089822   \n",
       "NCP                                 1.000000  0.002170  0.080949  0.100871   \n",
       "CAEC                                0.002170  1.000000  0.121849 -0.097974   \n",
       "CH2O                                0.080949  0.121849  1.000000  0.082932   \n",
       "FAF                                 0.100871 -0.097974  0.082932  1.000000   \n",
       "TUE                                 0.067459 -0.007822 -0.010654  0.021213   \n",
       "CALC                                0.099421  0.044553  0.082735 -0.090076   \n",
       "MTRANS                             -0.040851 -0.014859  0.028445 -0.095286   \n",
       "NObeyesdad                          0.027227  0.437162  0.273154 -0.234745   \n",
       "Gender_Female                      -0.039468 -0.045358 -0.053298 -0.238399   \n",
       "family_history_with_overweight_yes  0.044778  0.335975  0.191588 -0.094414   \n",
       "FAVC_yes                            0.011522  0.127701  0.039167 -0.067030   \n",
       "SMOKE_yes                           0.006820 -0.003756 -0.023475  0.008374   \n",
       "SCC_no                             -0.006633  0.122454  0.031720 -0.061828   \n",
       "BMI_Sqrt                            0.033361  0.425402  0.290857 -0.210465   \n",
       "\n",
       "                                         TUE      CALC    MTRANS  NObeyesdad  \\\n",
       "Age                                -0.296154  0.070323 -0.332291    0.356211   \n",
       "Height                              0.076433  0.089138 -0.069900    0.150141   \n",
       "Weight                             -0.086471  0.216673  0.085919    0.921250   \n",
       "FCVC                               -0.147843  0.128793  0.068414    0.272933   \n",
       "NCP                                 0.067459  0.099421 -0.040851    0.027227   \n",
       "CAEC                               -0.007822  0.044553 -0.014859    0.437162   \n",
       "CH2O                               -0.010654  0.082735  0.028445    0.273154   \n",
       "FAF                                 0.021213 -0.090076 -0.095286   -0.234745   \n",
       "TUE                                 1.000000 -0.079790  0.077647   -0.121009   \n",
       "CALC                               -0.079790  1.000000  0.024604    0.189361   \n",
       "MTRANS                              0.077647  0.024604  1.000000    0.110909   \n",
       "NObeyesdad                         -0.121009  0.189361  0.110909    1.000000   \n",
       "Gender_Female                      -0.058696  0.037345  0.151283    0.067699   \n",
       "family_history_with_overweight_yes  0.005762 -0.002330  0.009644    0.522026   \n",
       "FAVC_yes                            0.034843  0.080184  0.091496    0.215401   \n",
       "SMOKE_yes                          -0.016093  0.023254 -0.023099    0.013501   \n",
       "SCC_no                              0.007917 -0.000208  0.015129    0.184959   \n",
       "BMI_Sqrt                           -0.120528  0.194256  0.101925    0.963909   \n",
       "\n",
       "                                    Gender_Female  \\\n",
       "Age                                     -0.066530   \n",
       "Height                                  -0.623507   \n",
       "Weight                                  -0.118613   \n",
       "FCVC                                     0.312766   \n",
       "NCP                                     -0.039468   \n",
       "CAEC                                    -0.045358   \n",
       "CH2O                                    -0.053298   \n",
       "FAF                                     -0.238399   \n",
       "TUE                                     -0.058696   \n",
       "CALC                                     0.037345   \n",
       "MTRANS                                   0.151283   \n",
       "NObeyesdad                               0.067699   \n",
       "Gender_Female                            1.000000   \n",
       "family_history_with_overweight_yes      -0.095786   \n",
       "FAVC_yes                                -0.021812   \n",
       "SMOKE_yes                               -0.063349   \n",
       "SCC_no                                  -0.061442   \n",
       "BMI_Sqrt                                 0.066347   \n",
       "\n",
       "                                    family_history_with_overweight_yes  \\\n",
       "Age                                                           0.261575   \n",
       "Height                                                        0.228137   \n",
       "Weight                                                        0.514147   \n",
       "FCVC                                                          0.047756   \n",
       "NCP                                                           0.044778   \n",
       "CAEC                                                          0.335975   \n",
       "CH2O                                                          0.191588   \n",
       "FAF                                                          -0.094414   \n",
       "TUE                                                           0.005762   \n",
       "CALC                                                         -0.002330   \n",
       "MTRANS                                                        0.009644   \n",
       "NObeyesdad                                                    0.522026   \n",
       "Gender_Female                                                -0.095786   \n",
       "family_history_with_overweight_yes                            1.000000   \n",
       "FAVC_yes                                                      0.152154   \n",
       "SMOKE_yes                                                     0.018782   \n",
       "SCC_no                                                        0.166760   \n",
       "BMI_Sqrt                                                      0.511946   \n",
       "\n",
       "                                    FAVC_yes  SMOKE_yes    SCC_no  BMI_Sqrt  \n",
       "Age                                 0.056848   0.056006  0.108855  0.339627  \n",
       "Height                              0.115566   0.069748  0.095923  0.101907  \n",
       "Weight                              0.228770   0.040416  0.185116  0.940355  \n",
       "FCVC                                0.006952  -0.012191 -0.022120  0.270943  \n",
       "NCP                                 0.011522   0.006820 -0.006633  0.033361  \n",
       "CAEC                                0.127701  -0.003756  0.122454  0.425402  \n",
       "CH2O                                0.039167  -0.023475  0.031720  0.290857  \n",
       "FAF                                -0.067030   0.008374 -0.061828 -0.210465  \n",
       "TUE                                 0.034843  -0.016093  0.007917 -0.120528  \n",
       "CALC                                0.080184   0.023254 -0.000208  0.194256  \n",
       "MTRANS                              0.091496  -0.023099  0.015129  0.101925  \n",
       "NObeyesdad                          0.215401   0.013501  0.184959  0.963909  \n",
       "Gender_Female                      -0.021812  -0.063349 -0.061442  0.066347  \n",
       "family_history_with_overweight_yes  0.152154   0.018782  0.166760  0.511946  \n",
       "FAVC_yes                            1.000000  -0.016009  0.111897  0.212433  \n",
       "SMOKE_yes                          -0.016009   1.000000 -0.017185  0.015481  \n",
       "SCC_no                              0.111897  -0.017185  1.000000  0.178804  \n",
       "BMI_Sqrt                            0.212433   0.015481  0.178804  1.000000  "
      ]
     },
     "execution_count": 45,
     "metadata": {},
     "output_type": "execute_result"
    }
   ],
   "source": [
    "corr_matrix"
   ]
  },
  {
   "cell_type": "code",
   "execution_count": 46,
   "id": "feb896d7-7102-4cc3-a292-bcfeb422fceb",
   "metadata": {},
   "outputs": [],
   "source": [
    "# Sort the correlation matrix with respect to the column of interest\n",
    "sorted_correlation= corr_matrix['NObeyesdad'].sort_index(ascending=True)"
   ]
  },
  {
   "cell_type": "code",
   "execution_count": 47,
   "id": "dc48a082-a214-49c5-8732-f340104072cf",
   "metadata": {},
   "outputs": [],
   "source": [
    "# Extrack the columns in order of their correlation with the column of interest\n",
    "correlated_columns=sorted_correlation.index\n"
   ]
  },
  {
   "cell_type": "code",
   "execution_count": 48,
   "id": "c8d429ce-5014-45b7-9825-e3008c074d3b",
   "metadata": {},
   "outputs": [
    {
     "data": {
      "text/plain": [
       "Index(['Age', 'BMI_Sqrt', 'CAEC', 'CALC', 'CH2O', 'FAF', 'FAVC_yes', 'FCVC',\n",
       "       'Gender_Female', 'Height', 'MTRANS', 'NCP', 'NObeyesdad', 'SCC_no',\n",
       "       'SMOKE_yes', 'TUE', 'Weight', 'family_history_with_overweight_yes'],\n",
       "      dtype='object')"
      ]
     },
     "execution_count": 48,
     "metadata": {},
     "output_type": "execute_result"
    }
   ],
   "source": [
    "correlated_columns"
   ]
  },
  {
   "cell_type": "code",
   "execution_count": 49,
   "id": "a6b063b5-34a0-4c8e-9b8d-a54935f5c431",
   "metadata": {},
   "outputs": [
    {
     "data": {
      "text/html": [
       "<div>\n",
       "<style scoped>\n",
       "    .dataframe tbody tr th:only-of-type {\n",
       "        vertical-align: middle;\n",
       "    }\n",
       "\n",
       "    .dataframe tbody tr th {\n",
       "        vertical-align: top;\n",
       "    }\n",
       "\n",
       "    .dataframe thead th {\n",
       "        text-align: right;\n",
       "    }\n",
       "</style>\n",
       "<table border=\"1\" class=\"dataframe\">\n",
       "  <thead>\n",
       "    <tr style=\"text-align: right;\">\n",
       "      <th></th>\n",
       "      <th>Age</th>\n",
       "      <th>BMI_Sqrt</th>\n",
       "      <th>CAEC</th>\n",
       "      <th>CALC</th>\n",
       "      <th>CH2O</th>\n",
       "      <th>FAF</th>\n",
       "      <th>FAVC_yes</th>\n",
       "      <th>FCVC</th>\n",
       "      <th>Gender_Female</th>\n",
       "      <th>Height</th>\n",
       "      <th>MTRANS</th>\n",
       "      <th>NCP</th>\n",
       "      <th>NObeyesdad</th>\n",
       "      <th>SCC_no</th>\n",
       "      <th>SMOKE_yes</th>\n",
       "      <th>TUE</th>\n",
       "      <th>Weight</th>\n",
       "      <th>family_history_with_overweight_yes</th>\n",
       "    </tr>\n",
       "  </thead>\n",
       "  <tbody>\n",
       "    <tr>\n",
       "      <th>Age</th>\n",
       "      <td>1.000000</td>\n",
       "      <td>0.339627</td>\n",
       "      <td>0.199334</td>\n",
       "      <td>0.070323</td>\n",
       "      <td>-0.016325</td>\n",
       "      <td>-0.192259</td>\n",
       "      <td>0.056848</td>\n",
       "      <td>0.034414</td>\n",
       "      <td>-0.066530</td>\n",
       "      <td>-0.011713</td>\n",
       "      <td>-0.332291</td>\n",
       "      <td>-0.048479</td>\n",
       "      <td>0.356211</td>\n",
       "      <td>0.108855</td>\n",
       "      <td>0.056006</td>\n",
       "      <td>-0.296154</td>\n",
       "      <td>0.283381</td>\n",
       "      <td>0.261575</td>\n",
       "    </tr>\n",
       "    <tr>\n",
       "      <th>BMI_Sqrt</th>\n",
       "      <td>0.339627</td>\n",
       "      <td>1.000000</td>\n",
       "      <td>0.425402</td>\n",
       "      <td>0.194256</td>\n",
       "      <td>0.290857</td>\n",
       "      <td>-0.210465</td>\n",
       "      <td>0.212433</td>\n",
       "      <td>0.270943</td>\n",
       "      <td>0.066347</td>\n",
       "      <td>0.101907</td>\n",
       "      <td>0.101925</td>\n",
       "      <td>0.033361</td>\n",
       "      <td>0.963909</td>\n",
       "      <td>0.178804</td>\n",
       "      <td>0.015481</td>\n",
       "      <td>-0.120528</td>\n",
       "      <td>0.940355</td>\n",
       "      <td>0.511946</td>\n",
       "    </tr>\n",
       "    <tr>\n",
       "      <th>CAEC</th>\n",
       "      <td>0.199334</td>\n",
       "      <td>0.425402</td>\n",
       "      <td>1.000000</td>\n",
       "      <td>0.044553</td>\n",
       "      <td>0.121849</td>\n",
       "      <td>-0.097974</td>\n",
       "      <td>0.127701</td>\n",
       "      <td>0.028185</td>\n",
       "      <td>-0.045358</td>\n",
       "      <td>0.136845</td>\n",
       "      <td>-0.014859</td>\n",
       "      <td>0.002170</td>\n",
       "      <td>0.437162</td>\n",
       "      <td>0.122454</td>\n",
       "      <td>-0.003756</td>\n",
       "      <td>-0.007822</td>\n",
       "      <td>0.416091</td>\n",
       "      <td>0.335975</td>\n",
       "    </tr>\n",
       "    <tr>\n",
       "      <th>CALC</th>\n",
       "      <td>0.070323</td>\n",
       "      <td>0.194256</td>\n",
       "      <td>0.044553</td>\n",
       "      <td>1.000000</td>\n",
       "      <td>0.082735</td>\n",
       "      <td>-0.090076</td>\n",
       "      <td>0.080184</td>\n",
       "      <td>0.128793</td>\n",
       "      <td>0.037345</td>\n",
       "      <td>0.089138</td>\n",
       "      <td>0.024604</td>\n",
       "      <td>0.099421</td>\n",
       "      <td>0.189361</td>\n",
       "      <td>-0.000208</td>\n",
       "      <td>0.023254</td>\n",
       "      <td>-0.079790</td>\n",
       "      <td>0.216673</td>\n",
       "      <td>-0.002330</td>\n",
       "    </tr>\n",
       "    <tr>\n",
       "      <th>CH2O</th>\n",
       "      <td>-0.016325</td>\n",
       "      <td>0.290857</td>\n",
       "      <td>0.121849</td>\n",
       "      <td>0.082735</td>\n",
       "      <td>1.000000</td>\n",
       "      <td>0.082932</td>\n",
       "      <td>0.039167</td>\n",
       "      <td>0.101299</td>\n",
       "      <td>-0.053298</td>\n",
       "      <td>0.183706</td>\n",
       "      <td>0.028445</td>\n",
       "      <td>0.080949</td>\n",
       "      <td>0.273154</td>\n",
       "      <td>0.031720</td>\n",
       "      <td>-0.023475</td>\n",
       "      <td>-0.010654</td>\n",
       "      <td>0.317914</td>\n",
       "      <td>0.191588</td>\n",
       "    </tr>\n",
       "    <tr>\n",
       "      <th>FAF</th>\n",
       "      <td>-0.192259</td>\n",
       "      <td>-0.210465</td>\n",
       "      <td>-0.097974</td>\n",
       "      <td>-0.090076</td>\n",
       "      <td>0.082932</td>\n",
       "      <td>1.000000</td>\n",
       "      <td>-0.067030</td>\n",
       "      <td>-0.089822</td>\n",
       "      <td>-0.238399</td>\n",
       "      <td>0.295278</td>\n",
       "      <td>-0.095286</td>\n",
       "      <td>0.100871</td>\n",
       "      <td>-0.234745</td>\n",
       "      <td>-0.061828</td>\n",
       "      <td>0.008374</td>\n",
       "      <td>0.021213</td>\n",
       "      <td>-0.084845</td>\n",
       "      <td>-0.094414</td>\n",
       "    </tr>\n",
       "    <tr>\n",
       "      <th>FAVC_yes</th>\n",
       "      <td>0.056848</td>\n",
       "      <td>0.212433</td>\n",
       "      <td>0.127701</td>\n",
       "      <td>0.080184</td>\n",
       "      <td>0.039167</td>\n",
       "      <td>-0.067030</td>\n",
       "      <td>1.000000</td>\n",
       "      <td>0.006952</td>\n",
       "      <td>-0.021812</td>\n",
       "      <td>0.115566</td>\n",
       "      <td>0.091496</td>\n",
       "      <td>0.011522</td>\n",
       "      <td>0.215401</td>\n",
       "      <td>0.111897</td>\n",
       "      <td>-0.016009</td>\n",
       "      <td>0.034843</td>\n",
       "      <td>0.228770</td>\n",
       "      <td>0.152154</td>\n",
       "    </tr>\n",
       "    <tr>\n",
       "      <th>FCVC</th>\n",
       "      <td>0.034414</td>\n",
       "      <td>0.270943</td>\n",
       "      <td>0.028185</td>\n",
       "      <td>0.128793</td>\n",
       "      <td>0.101299</td>\n",
       "      <td>-0.089822</td>\n",
       "      <td>0.006952</td>\n",
       "      <td>1.000000</td>\n",
       "      <td>0.312766</td>\n",
       "      <td>-0.071546</td>\n",
       "      <td>0.068414</td>\n",
       "      <td>0.113349</td>\n",
       "      <td>0.272933</td>\n",
       "      <td>-0.022120</td>\n",
       "      <td>-0.012191</td>\n",
       "      <td>-0.147843</td>\n",
       "      <td>0.245682</td>\n",
       "      <td>0.047756</td>\n",
       "    </tr>\n",
       "    <tr>\n",
       "      <th>Gender_Female</th>\n",
       "      <td>-0.066530</td>\n",
       "      <td>0.066347</td>\n",
       "      <td>-0.045358</td>\n",
       "      <td>0.037345</td>\n",
       "      <td>-0.053298</td>\n",
       "      <td>-0.238399</td>\n",
       "      <td>-0.021812</td>\n",
       "      <td>0.312766</td>\n",
       "      <td>1.000000</td>\n",
       "      <td>-0.623507</td>\n",
       "      <td>0.151283</td>\n",
       "      <td>-0.039468</td>\n",
       "      <td>0.067699</td>\n",
       "      <td>-0.061442</td>\n",
       "      <td>-0.063349</td>\n",
       "      <td>-0.058696</td>\n",
       "      <td>-0.118613</td>\n",
       "      <td>-0.095786</td>\n",
       "    </tr>\n",
       "    <tr>\n",
       "      <th>Height</th>\n",
       "      <td>-0.011713</td>\n",
       "      <td>0.101907</td>\n",
       "      <td>0.136845</td>\n",
       "      <td>0.089138</td>\n",
       "      <td>0.183706</td>\n",
       "      <td>0.295278</td>\n",
       "      <td>0.115566</td>\n",
       "      <td>-0.071546</td>\n",
       "      <td>-0.623507</td>\n",
       "      <td>1.000000</td>\n",
       "      <td>-0.069900</td>\n",
       "      <td>0.191383</td>\n",
       "      <td>0.150141</td>\n",
       "      <td>0.095923</td>\n",
       "      <td>0.069748</td>\n",
       "      <td>0.076433</td>\n",
       "      <td>0.416677</td>\n",
       "      <td>0.228137</td>\n",
       "    </tr>\n",
       "    <tr>\n",
       "      <th>MTRANS</th>\n",
       "      <td>-0.332291</td>\n",
       "      <td>0.101925</td>\n",
       "      <td>-0.014859</td>\n",
       "      <td>0.024604</td>\n",
       "      <td>0.028445</td>\n",
       "      <td>-0.095286</td>\n",
       "      <td>0.091496</td>\n",
       "      <td>0.068414</td>\n",
       "      <td>0.151283</td>\n",
       "      <td>-0.069900</td>\n",
       "      <td>1.000000</td>\n",
       "      <td>-0.040851</td>\n",
       "      <td>0.110909</td>\n",
       "      <td>0.015129</td>\n",
       "      <td>-0.023099</td>\n",
       "      <td>0.077647</td>\n",
       "      <td>0.085919</td>\n",
       "      <td>0.009644</td>\n",
       "    </tr>\n",
       "    <tr>\n",
       "      <th>NCP</th>\n",
       "      <td>-0.048479</td>\n",
       "      <td>0.033361</td>\n",
       "      <td>0.002170</td>\n",
       "      <td>0.099421</td>\n",
       "      <td>0.080949</td>\n",
       "      <td>0.100871</td>\n",
       "      <td>0.011522</td>\n",
       "      <td>0.113349</td>\n",
       "      <td>-0.039468</td>\n",
       "      <td>0.191383</td>\n",
       "      <td>-0.040851</td>\n",
       "      <td>1.000000</td>\n",
       "      <td>0.027227</td>\n",
       "      <td>-0.006633</td>\n",
       "      <td>0.006820</td>\n",
       "      <td>0.067459</td>\n",
       "      <td>0.095947</td>\n",
       "      <td>0.044778</td>\n",
       "    </tr>\n",
       "    <tr>\n",
       "      <th>NObeyesdad</th>\n",
       "      <td>0.356211</td>\n",
       "      <td>0.963909</td>\n",
       "      <td>0.437162</td>\n",
       "      <td>0.189361</td>\n",
       "      <td>0.273154</td>\n",
       "      <td>-0.234745</td>\n",
       "      <td>0.215401</td>\n",
       "      <td>0.272933</td>\n",
       "      <td>0.067699</td>\n",
       "      <td>0.150141</td>\n",
       "      <td>0.110909</td>\n",
       "      <td>0.027227</td>\n",
       "      <td>1.000000</td>\n",
       "      <td>0.184959</td>\n",
       "      <td>0.013501</td>\n",
       "      <td>-0.121009</td>\n",
       "      <td>0.921250</td>\n",
       "      <td>0.522026</td>\n",
       "    </tr>\n",
       "    <tr>\n",
       "      <th>SCC_no</th>\n",
       "      <td>0.108855</td>\n",
       "      <td>0.178804</td>\n",
       "      <td>0.122454</td>\n",
       "      <td>-0.000208</td>\n",
       "      <td>0.031720</td>\n",
       "      <td>-0.061828</td>\n",
       "      <td>0.111897</td>\n",
       "      <td>-0.022120</td>\n",
       "      <td>-0.061442</td>\n",
       "      <td>0.095923</td>\n",
       "      <td>0.015129</td>\n",
       "      <td>-0.006633</td>\n",
       "      <td>0.184959</td>\n",
       "      <td>1.000000</td>\n",
       "      <td>-0.017185</td>\n",
       "      <td>0.007917</td>\n",
       "      <td>0.185116</td>\n",
       "      <td>0.166760</td>\n",
       "    </tr>\n",
       "    <tr>\n",
       "      <th>SMOKE_yes</th>\n",
       "      <td>0.056006</td>\n",
       "      <td>0.015481</td>\n",
       "      <td>-0.003756</td>\n",
       "      <td>0.023254</td>\n",
       "      <td>-0.023475</td>\n",
       "      <td>0.008374</td>\n",
       "      <td>-0.016009</td>\n",
       "      <td>-0.012191</td>\n",
       "      <td>-0.063349</td>\n",
       "      <td>0.069748</td>\n",
       "      <td>-0.023099</td>\n",
       "      <td>0.006820</td>\n",
       "      <td>0.013501</td>\n",
       "      <td>-0.017185</td>\n",
       "      <td>1.000000</td>\n",
       "      <td>-0.016093</td>\n",
       "      <td>0.040416</td>\n",
       "      <td>0.018782</td>\n",
       "    </tr>\n",
       "    <tr>\n",
       "      <th>TUE</th>\n",
       "      <td>-0.296154</td>\n",
       "      <td>-0.120528</td>\n",
       "      <td>-0.007822</td>\n",
       "      <td>-0.079790</td>\n",
       "      <td>-0.010654</td>\n",
       "      <td>0.021213</td>\n",
       "      <td>0.034843</td>\n",
       "      <td>-0.147843</td>\n",
       "      <td>-0.058696</td>\n",
       "      <td>0.076433</td>\n",
       "      <td>0.077647</td>\n",
       "      <td>0.067459</td>\n",
       "      <td>-0.121009</td>\n",
       "      <td>0.007917</td>\n",
       "      <td>-0.016093</td>\n",
       "      <td>1.000000</td>\n",
       "      <td>-0.086471</td>\n",
       "      <td>0.005762</td>\n",
       "    </tr>\n",
       "    <tr>\n",
       "      <th>Weight</th>\n",
       "      <td>0.283381</td>\n",
       "      <td>0.940355</td>\n",
       "      <td>0.416091</td>\n",
       "      <td>0.216673</td>\n",
       "      <td>0.317914</td>\n",
       "      <td>-0.084845</td>\n",
       "      <td>0.228770</td>\n",
       "      <td>0.245682</td>\n",
       "      <td>-0.118613</td>\n",
       "      <td>0.416677</td>\n",
       "      <td>0.085919</td>\n",
       "      <td>0.095947</td>\n",
       "      <td>0.921250</td>\n",
       "      <td>0.185116</td>\n",
       "      <td>0.040416</td>\n",
       "      <td>-0.086471</td>\n",
       "      <td>1.000000</td>\n",
       "      <td>0.514147</td>\n",
       "    </tr>\n",
       "    <tr>\n",
       "      <th>family_history_with_overweight_yes</th>\n",
       "      <td>0.261575</td>\n",
       "      <td>0.511946</td>\n",
       "      <td>0.335975</td>\n",
       "      <td>-0.002330</td>\n",
       "      <td>0.191588</td>\n",
       "      <td>-0.094414</td>\n",
       "      <td>0.152154</td>\n",
       "      <td>0.047756</td>\n",
       "      <td>-0.095786</td>\n",
       "      <td>0.228137</td>\n",
       "      <td>0.009644</td>\n",
       "      <td>0.044778</td>\n",
       "      <td>0.522026</td>\n",
       "      <td>0.166760</td>\n",
       "      <td>0.018782</td>\n",
       "      <td>0.005762</td>\n",
       "      <td>0.514147</td>\n",
       "      <td>1.000000</td>\n",
       "    </tr>\n",
       "  </tbody>\n",
       "</table>\n",
       "</div>"
      ],
      "text/plain": [
       "                                         Age  BMI_Sqrt      CAEC      CALC  \\\n",
       "Age                                 1.000000  0.339627  0.199334  0.070323   \n",
       "BMI_Sqrt                            0.339627  1.000000  0.425402  0.194256   \n",
       "CAEC                                0.199334  0.425402  1.000000  0.044553   \n",
       "CALC                                0.070323  0.194256  0.044553  1.000000   \n",
       "CH2O                               -0.016325  0.290857  0.121849  0.082735   \n",
       "FAF                                -0.192259 -0.210465 -0.097974 -0.090076   \n",
       "FAVC_yes                            0.056848  0.212433  0.127701  0.080184   \n",
       "FCVC                                0.034414  0.270943  0.028185  0.128793   \n",
       "Gender_Female                      -0.066530  0.066347 -0.045358  0.037345   \n",
       "Height                             -0.011713  0.101907  0.136845  0.089138   \n",
       "MTRANS                             -0.332291  0.101925 -0.014859  0.024604   \n",
       "NCP                                -0.048479  0.033361  0.002170  0.099421   \n",
       "NObeyesdad                          0.356211  0.963909  0.437162  0.189361   \n",
       "SCC_no                              0.108855  0.178804  0.122454 -0.000208   \n",
       "SMOKE_yes                           0.056006  0.015481 -0.003756  0.023254   \n",
       "TUE                                -0.296154 -0.120528 -0.007822 -0.079790   \n",
       "Weight                              0.283381  0.940355  0.416091  0.216673   \n",
       "family_history_with_overweight_yes  0.261575  0.511946  0.335975 -0.002330   \n",
       "\n",
       "                                        CH2O       FAF  FAVC_yes      FCVC  \\\n",
       "Age                                -0.016325 -0.192259  0.056848  0.034414   \n",
       "BMI_Sqrt                            0.290857 -0.210465  0.212433  0.270943   \n",
       "CAEC                                0.121849 -0.097974  0.127701  0.028185   \n",
       "CALC                                0.082735 -0.090076  0.080184  0.128793   \n",
       "CH2O                                1.000000  0.082932  0.039167  0.101299   \n",
       "FAF                                 0.082932  1.000000 -0.067030 -0.089822   \n",
       "FAVC_yes                            0.039167 -0.067030  1.000000  0.006952   \n",
       "FCVC                                0.101299 -0.089822  0.006952  1.000000   \n",
       "Gender_Female                      -0.053298 -0.238399 -0.021812  0.312766   \n",
       "Height                              0.183706  0.295278  0.115566 -0.071546   \n",
       "MTRANS                              0.028445 -0.095286  0.091496  0.068414   \n",
       "NCP                                 0.080949  0.100871  0.011522  0.113349   \n",
       "NObeyesdad                          0.273154 -0.234745  0.215401  0.272933   \n",
       "SCC_no                              0.031720 -0.061828  0.111897 -0.022120   \n",
       "SMOKE_yes                          -0.023475  0.008374 -0.016009 -0.012191   \n",
       "TUE                                -0.010654  0.021213  0.034843 -0.147843   \n",
       "Weight                              0.317914 -0.084845  0.228770  0.245682   \n",
       "family_history_with_overweight_yes  0.191588 -0.094414  0.152154  0.047756   \n",
       "\n",
       "                                    Gender_Female    Height    MTRANS  \\\n",
       "Age                                     -0.066530 -0.011713 -0.332291   \n",
       "BMI_Sqrt                                 0.066347  0.101907  0.101925   \n",
       "CAEC                                    -0.045358  0.136845 -0.014859   \n",
       "CALC                                     0.037345  0.089138  0.024604   \n",
       "CH2O                                    -0.053298  0.183706  0.028445   \n",
       "FAF                                     -0.238399  0.295278 -0.095286   \n",
       "FAVC_yes                                -0.021812  0.115566  0.091496   \n",
       "FCVC                                     0.312766 -0.071546  0.068414   \n",
       "Gender_Female                            1.000000 -0.623507  0.151283   \n",
       "Height                                  -0.623507  1.000000 -0.069900   \n",
       "MTRANS                                   0.151283 -0.069900  1.000000   \n",
       "NCP                                     -0.039468  0.191383 -0.040851   \n",
       "NObeyesdad                               0.067699  0.150141  0.110909   \n",
       "SCC_no                                  -0.061442  0.095923  0.015129   \n",
       "SMOKE_yes                               -0.063349  0.069748 -0.023099   \n",
       "TUE                                     -0.058696  0.076433  0.077647   \n",
       "Weight                                  -0.118613  0.416677  0.085919   \n",
       "family_history_with_overweight_yes      -0.095786  0.228137  0.009644   \n",
       "\n",
       "                                         NCP  NObeyesdad    SCC_no  SMOKE_yes  \\\n",
       "Age                                -0.048479    0.356211  0.108855   0.056006   \n",
       "BMI_Sqrt                            0.033361    0.963909  0.178804   0.015481   \n",
       "CAEC                                0.002170    0.437162  0.122454  -0.003756   \n",
       "CALC                                0.099421    0.189361 -0.000208   0.023254   \n",
       "CH2O                                0.080949    0.273154  0.031720  -0.023475   \n",
       "FAF                                 0.100871   -0.234745 -0.061828   0.008374   \n",
       "FAVC_yes                            0.011522    0.215401  0.111897  -0.016009   \n",
       "FCVC                                0.113349    0.272933 -0.022120  -0.012191   \n",
       "Gender_Female                      -0.039468    0.067699 -0.061442  -0.063349   \n",
       "Height                              0.191383    0.150141  0.095923   0.069748   \n",
       "MTRANS                             -0.040851    0.110909  0.015129  -0.023099   \n",
       "NCP                                 1.000000    0.027227 -0.006633   0.006820   \n",
       "NObeyesdad                          0.027227    1.000000  0.184959   0.013501   \n",
       "SCC_no                             -0.006633    0.184959  1.000000  -0.017185   \n",
       "SMOKE_yes                           0.006820    0.013501 -0.017185   1.000000   \n",
       "TUE                                 0.067459   -0.121009  0.007917  -0.016093   \n",
       "Weight                              0.095947    0.921250  0.185116   0.040416   \n",
       "family_history_with_overweight_yes  0.044778    0.522026  0.166760   0.018782   \n",
       "\n",
       "                                         TUE    Weight  \\\n",
       "Age                                -0.296154  0.283381   \n",
       "BMI_Sqrt                           -0.120528  0.940355   \n",
       "CAEC                               -0.007822  0.416091   \n",
       "CALC                               -0.079790  0.216673   \n",
       "CH2O                               -0.010654  0.317914   \n",
       "FAF                                 0.021213 -0.084845   \n",
       "FAVC_yes                            0.034843  0.228770   \n",
       "FCVC                               -0.147843  0.245682   \n",
       "Gender_Female                      -0.058696 -0.118613   \n",
       "Height                              0.076433  0.416677   \n",
       "MTRANS                              0.077647  0.085919   \n",
       "NCP                                 0.067459  0.095947   \n",
       "NObeyesdad                         -0.121009  0.921250   \n",
       "SCC_no                              0.007917  0.185116   \n",
       "SMOKE_yes                          -0.016093  0.040416   \n",
       "TUE                                 1.000000 -0.086471   \n",
       "Weight                             -0.086471  1.000000   \n",
       "family_history_with_overweight_yes  0.005762  0.514147   \n",
       "\n",
       "                                    family_history_with_overweight_yes  \n",
       "Age                                                           0.261575  \n",
       "BMI_Sqrt                                                      0.511946  \n",
       "CAEC                                                          0.335975  \n",
       "CALC                                                         -0.002330  \n",
       "CH2O                                                          0.191588  \n",
       "FAF                                                          -0.094414  \n",
       "FAVC_yes                                                      0.152154  \n",
       "FCVC                                                          0.047756  \n",
       "Gender_Female                                                -0.095786  \n",
       "Height                                                        0.228137  \n",
       "MTRANS                                                        0.009644  \n",
       "NCP                                                           0.044778  \n",
       "NObeyesdad                                                    0.522026  \n",
       "SCC_no                                                        0.166760  \n",
       "SMOKE_yes                                                     0.018782  \n",
       "TUE                                                           0.005762  \n",
       "Weight                                                        0.514147  \n",
       "family_history_with_overweight_yes                            1.000000  "
      ]
     },
     "execution_count": 49,
     "metadata": {},
     "output_type": "execute_result"
    }
   ],
   "source": [
    "subset_corr_matrix = corr_matrix.loc[correlated_columns, correlated_columns]\n",
    "subset_corr_matrix"
   ]
  },
  {
   "cell_type": "code",
   "execution_count": 50,
   "id": "0e6e757e-6ccb-48a4-8394-4ad58ab7ae91",
   "metadata": {},
   "outputs": [
    {
     "data": {
      "text/plain": [
       "<Figure size 1600x1600 with 0 Axes>"
      ]
     },
     "execution_count": 50,
     "metadata": {},
     "output_type": "execute_result"
    },
    {
     "data": {
      "text/plain": [
       "<Figure size 1600x1600 with 0 Axes>"
      ]
     },
     "metadata": {},
     "output_type": "display_data"
    }
   ],
   "source": [
    "# set up metplob fighure \n",
    "\n",
    "plt.figure(figsize=(16,16))"
   ]
  },
  {
   "cell_type": "code",
   "execution_count": 51,
   "id": "ab1e85f8-6d2c-485e-864a-7316c57505b8",
   "metadata": {},
   "outputs": [
    {
     "data": {
      "text/plain": [
       "<Axes: >"
      ]
     },
     "execution_count": 51,
     "metadata": {},
     "output_type": "execute_result"
    },
    {
     "data": {
      "image/png": "[encoded data removed]",
      "text/plain": [
       "<Figure size 640x480 with 2 Axes>"
      ]
     },
     "metadata": {},
     "output_type": "display_data"
    }
   ],
   "source": [
    "# creating a heatmap\n",
    "sns.heatmap(subset_corr_matrix, annot =True, cmap ='Blues', linewidths= 0.5, fmt = '.2f', square='True')"
   ]
  },
  {
   "cell_type": "code",
   "execution_count": 52,
   "id": "e13924a2-02ee-4cc3-8515-26a67ea4b280",
   "metadata": {},
   "outputs": [
    {
     "data": {
      "text/plain": [
       "Text(0.5, 1.0, 'Correlation Matrix heatmap')"
      ]
     },
     "execution_count": 52,
     "metadata": {},
     "output_type": "execute_result"
    },
    {
     "data": {
      "image/png": "[encoded data removed]",
      "text/plain": [
       "<Figure size 640x480 with 1 Axes>"
      ]
     },
     "metadata": {},
     "output_type": "display_data"
    }
   ],
   "source": [
    "# Add a title \n",
    "plt.title(\"Correlation Matrix heatmap\")"
   ]
  },
  {
   "cell_type": "code",
   "execution_count": 53,
   "id": "2e64b439-039e-4dbb-bf5c-fb11bbf3912d",
   "metadata": {},
   "outputs": [],
   "source": [
    "#show the plot\n",
    "plt.show()"
   ]
  },
  {
   "cell_type": "code",
   "execution_count": 54,
   "id": "1b0bfbf7-dae5-42ae-8be9-0ea0aad721bf",
   "metadata": {},
   "outputs": [],
   "source": [
    "x=df.drop('NObeyesdad', axis=1)\n",
    "y=df['NObeyesdad']"
   ]
  },
  {
   "cell_type": "code",
   "execution_count": 55,
   "id": "2f5a2094-9f34-4ed9-8378-7524887e1205",
   "metadata": {},
   "outputs": [],
   "source": [
    "X_train, X_val,y_train, y_val=train_test_split(x,y,test_size=0.2, stratify=y, random_state= 42)\n"
   ]
  },
  {
   "cell_type": "code",
   "execution_count": 56,
   "id": "2f51a1b3-55a5-41f1-bce0-cfe53dd49b61",
   "metadata": {},
   "outputs": [
    {
     "name": "stdout",
     "output_type": "stream",
     "text": [
      "Requirement already satisfied: xgboost in c:\\users\\ghimi\\anaconda3\\lib\\site-packages (2.1.1)\n",
      "Requirement already satisfied: numpy in c:\\users\\ghimi\\anaconda3\\lib\\site-packages (from xgboost) (1.26.4)\n",
      "Requirement already satisfied: scipy in c:\\users\\ghimi\\anaconda3\\lib\\site-packages (from xgboost) (1.11.4)\n"
     ]
    }
   ],
   "source": [
    "!pip install xgboost\n"
   ]
  },
  {
   "cell_type": "code",
   "execution_count": 57,
   "id": "e301a1fb-382e-48e6-97e6-9de87e9aa961",
   "metadata": {},
   "outputs": [],
   "source": [
    "from xgboost import XGBClassifier\n"
   ]
  },
  {
   "cell_type": "code",
   "execution_count": 58,
   "id": "e4eb94f7-2c86-4f08-bbcd-b18307862dd5",
   "metadata": {},
   "outputs": [],
   "source": [
    "from xgboost import XGBClassifier\n",
    "XGB= XGBClassifier(random_state=3361)\n",
    "XGB.fit(X_train, y_train)\n",
    "y_pred=XGB.predict(X_val)"
   ]
  },
  {
   "cell_type": "code",
   "execution_count": 62,
   "id": "c5fccc72-7dfb-4d77-86d6-f917520e8cac",
   "metadata": {},
   "outputs": [
    {
     "name": "stdout",
     "output_type": "stream",
     "text": [
      "              precision    recall  f1-score   support\n",
      "\n",
      "           0       0.95      0.94      0.94       507\n",
      "           1       0.90      0.87      0.89       636\n",
      "           2       0.72      0.81      0.76       429\n",
      "           3       0.84      0.78      0.81       543\n",
      "           4       0.87      0.89      0.88       569\n",
      "           5       0.97      0.96      0.96       655\n",
      "           6       1.00      0.99      1.00       813\n",
      "\n",
      "    accuracy                           0.90      4152\n",
      "   macro avg       0.89      0.89      0.89      4152\n",
      "weighted avg       0.91      0.90      0.90      4152\n",
      "\n",
      "The accuracy for the ML model is 90.32 %\n"
     ]
    }
   ],
   "source": [
    "from sklearn.metrics import accuracy_score, classification_report, confusion_matrix\n",
    "print(classification_report(y_pred, y_val))\n",
    "print(\"The accuracy for the ML model is {} %\".format(round(100*accuracy_score(y_pred, y_val), 2)))"
   ]
  },
  {
   "cell_type": "markdown",
   "id": "af86f727-fe8f-472f-a1f7-eaa242225e84",
   "metadata": {},
   "source": [
    "Above results shows a classification report with precision, recall, f1-score, and support for different classes (0 to 6). The overall accuracy of the machine learning model is 90.32%.\n",
    "\n",
    "Class 6 has the highest precision (1.00), recall (0.99), and F1-score (1.00), indicating strong performance.\n",
    "Class 2 has the lowest F1-score (0.76), suggesting the model struggles more with this class compared to others.\n",
    "The overall macro and weighted averages for precision, recall, and F1-score are around 0.89-0.91."
   ]
  },
  {
   "cell_type": "code",
   "execution_count": 74,
   "id": "7077f94e-f3c0-48ab-836a-e3ebe1af4fc0",
   "metadata": {},
   "outputs": [
    {
     "data": {
      "text/plain": [
       "array([0.89644792, 0.90545017, 0.90545017, 0.90755796, 0.90846131])"
      ]
     },
     "execution_count": 74,
     "metadata": {},
     "output_type": "execute_result"
    }
   ],
   "source": [
    "from sklearn.model_selection import cross_val_score\n",
    "XGB_scores= cross_val_score(XGB, X_train, y_train, cv=5)\n",
    "XGB_scores"
   ]
  },
  {
   "cell_type": "code",
   "execution_count": 80,
   "id": "d2f001bd-8154-47de-8c59-630d0d2022e5",
   "metadata": {},
   "outputs": [
    {
     "name": "stdout",
     "output_type": "stream",
     "text": [
      "Scores: [0.8964 0.9055 0.9055 0.9076 0.9085]\n",
      "Mean: 0.9047\n",
      "standard Deviation: 0.0043\n"
     ]
    }
   ],
   "source": [
    "def display_scores(scores):\n",
    "    print(\"Scores:\", scores.round(4))\n",
    "    print(\"Mean:\", round(scores.mean(), 4))\n",
    "    print(\"standard Deviation:\", round(scores.std(),4))\n",
    "\n",
    "display_scores(XGB_scores)"
   ]
  },
  {
   "cell_type": "code",
   "execution_count": 82,
   "id": "81beaa8e-be4b-46fc-b0fc-e67ad5aa79b4",
   "metadata": {},
   "outputs": [],
   "source": [
    "import joblib\n",
    "joblib.dump(XGB, 'XGB.joblib')\n",
    "loaded_model= joblib.load('XGB.joblib')"
   ]
  },
  {
   "cell_type": "code",
   "execution_count": 84,
   "id": "ad0ce6f3-a116-45f5-9673-e423236eba38",
   "metadata": {},
   "outputs": [
    {
     "data": {
      "text/plain": [
       "array([5, 2, 6, ..., 0, 0, 5], dtype=int64)"
      ]
     },
     "execution_count": 84,
     "metadata": {},
     "output_type": "execute_result"
    }
   ],
   "source": [
    "XGB_Y_pred= loaded_model.predict(df_test)\n",
    "XGB_Y_pred"
   ]
  },
  {
   "cell_type": "code",
   "execution_count": 88,
   "id": "c9a2eecd-c6c0-4fe6-a258-68825e4c016d",
   "metadata": {},
   "outputs": [],
   "source": [
    "model_results =pd.DataFrame({'id':test_id, 'NObeyesdad':XGB_Y_pred})"
   ]
  },
  {
   "cell_type": "code",
   "execution_count": 90,
   "id": "fd638720-65eb-452e-a118-1f40d5199b5a",
   "metadata": {},
   "outputs": [],
   "source": [
    "target_dictionary = {0:'Insufficient_Weight',\n",
    "                  1: 'Normal_Weight', 2:'Overweight_Level_I', 3: 'Overweight_Level_II', 4:'Obesity_Type_I' ,5: 'Obesity_Type_II', 6:'Obesity_Type_III'}\n",
    "\n",
    "model_results['NObeyesdad'] = model_results['NObeyesdad'].replace(target_dictionary)\n",
    "                    "
   ]
  },
  {
   "cell_type": "code",
   "execution_count": 94,
   "id": "f47c998e-3f39-482e-b246-05dab29f2d41",
   "metadata": {},
   "outputs": [
    {
     "ename": "SyntaxError",
     "evalue": "unterminated string literal (detected at line 1) (948166632.py, line 1)",
     "output_type": "error",
     "traceback": [
      "\u001b[1;36m  Cell \u001b[1;32mIn[94], line 1\u001b[1;36m\u001b[0m\n\u001b[1;33m    model_results[['id', 'NObeyesdad']].to_csv(submissionOA.csv', index=False)\u001b[0m\n\u001b[1;37m                                                               ^\u001b[0m\n\u001b[1;31mSyntaxError\u001b[0m\u001b[1;31m:\u001b[0m unterminated string literal (detected at line 1)\n"
     ]
    }
   ],
   "source": [
    "model_results[['id', 'NObeyesdad']].to_csv(submissionOA.csv', index=False)"
   ]
  },
  {
   "cell_type": "code",
   "execution_count": 96,
   "id": "84f2f234-632e-4ce8-b372-a005f7bd77dc",
   "metadata": {},
   "outputs": [
    {
     "name": "stdout",
     "output_type": "stream",
     "text": [
      "          id           NObeyesdad\n",
      "0      20758      Obesity_Type_II\n",
      "1      20759   Overweight_Level_I\n",
      "2      20760     Obesity_Type_III\n",
      "3      20761       Obesity_Type_I\n",
      "4      20762       Obesity_Type_I\n",
      "...      ...                  ...\n",
      "13835  34593  Overweight_Level_II\n",
      "13836  34594   Overweight_Level_I\n",
      "13837  34595  Insufficient_Weight\n",
      "13838  34596  Insufficient_Weight\n",
      "13839  34597      Obesity_Type_II\n",
      "\n",
      "[13840 rows x 2 columns]\n"
     ]
    }
   ],
   "source": [
    "print(model_results)"
   ]
  },
  {
   "cell_type": "code",
   "execution_count": 107,
   "id": "9ec8486d-67c5-46cb-91f0-6e5bc6618bd9",
   "metadata": {},
   "outputs": [],
   "source": [
    "XGB_result = pd.DataFrame({'id': test_id, 'NObeyesdad': XGB_Y_pred})\n",
    "XGB_result.to_csv('C:/Users/ghimi/OneDrive/Desktop/PHD in Data Science/4_Predictive Analysis_TIM8555/XGB_result.csv', index=False)"
   ]
  },
  {
   "cell_type": "code",
   "execution_count": null,
   "id": "16a43e42-9ff9-4014-b60b-99a923adb458",
   "metadata": {},
   "outputs": [],
   "source": []
  }
 ],
 "metadata": {
  "kernelspec": {
   "display_name": "Python 3 (ipykernel)",
   "language": "python",
   "name": "python3"
  },
  "language_info": {
   "codemirror_mode": {
    "name": "ipython",
    "version": 3
   },
   "file_extension": ".py",
   "mimetype": "text/x-python",
   "name": "python",
   "nbconvert_exporter": "python",
   "pygments_lexer": "ipython3",
   "version": "3.12.4"
  }
 },
 "nbformat": 4,
 "nbformat_minor": 5
}
