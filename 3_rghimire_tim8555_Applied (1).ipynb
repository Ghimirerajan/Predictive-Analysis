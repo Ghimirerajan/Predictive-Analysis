{
 "cells": [
  {
   "cell_type": "markdown",
   "id": "d0d66b67-7a7c-47bf-97f9-7a471def7b64",
   "metadata": {},
   "source": [
    "# Complete Applied Question #8 on page 286 of ISLR Python. \n",
    "In this exercise, we will generate simulated data, and will then use\r\n",
    "this data to perform forward and backward stepwise selection.we\n",
    "rs\n"
   ]
  },
  {
   "cell_type": "code",
   "execution_count": 31,
   "id": "3613a12f-45d2-49ad-818c-584a92fb183b",
   "metadata": {
    "editable": true,
    "slideshow": {
     "slide_type": ""
    },
    "tags": []
   },
   "outputs": [
    {
     "name": "stdout",
     "output_type": "stream",
     "text": [
      "C:\\Users\\ghimi\\OneDrive\\Desktop\\PHD in Data Science\\4_Predictive Analysis_TIM8555\\Assignment 3\n"
     ]
    }
   ],
   "source": [
    "import os\n",
    "os.chdir(\"C:/Users/ghimi/OneDrive/Desktop/PHD in Data Science/4_Predictive Analysis_TIM8555/Assignment 3\")\n",
    "print(os.getcwd())  # Verify change\n"
   ]
  },
  {
   "cell_type": "markdown",
   "id": "a87d7ac2-ce9c-47f0-88b1-3fb116611a4f",
   "metadata": {},
   "source": [
    "##  Question A \n",
    "Create a random number generator and use its normal() method\r\n",
    "to generate a predictor X of length n = 100, as well as a noise\r\n",
    "vector \" of length n = 100..?"
   ]
  },
  {
   "cell_type": "code",
   "execution_count": 34,
   "id": "705e69ac-4fc0-40ae-bc7e-4dbefce01acc",
   "metadata": {},
   "outputs": [
    {
     "data": {
      "text/plain": [
       "(array([-0.0684253 ,  0.44450854, -1.78124447, -0.79621552,  1.89630884,\n",
       "        -0.74095761, -0.7361541 , -1.26781504, -0.54099048, -0.84440925]),\n",
       " array([-2.33473255,  1.79249167, -0.88604376,  0.26518978,  0.44958101,\n",
       "         0.57708925,  0.08596864, -1.10783722,  1.18750285, -0.79744961]))"
      ]
     },
     "execution_count": 34,
     "metadata": {},
     "output_type": "execute_result"
    }
   ],
   "source": [
    "import numpy as np\n",
    "\n",
    "# Set the seed for reproducibility\n",
    "np.random.seed(42)\n",
    "\n",
    "# Define the length of the predictor and noise vector\n",
    "n = 100\n",
    "\n",
    "# Create the random number generator\n",
    "rng = np.random.default_rng()\n",
    "\n",
    "# Generate the predictor X and noise vector epsilon using the normal() method\n",
    "X = rng.normal(loc=0, scale=1, size=n)  # Normal distribution with mean=0, std=1\n",
    "epsilon = rng.normal(loc=0, scale=1, size=n)  # Noise vector\n",
    "\n",
    "# Display the generated data\n",
    "X[:10], epsilon[:10]  # Display the first 10 values of X and epsilon as a preview\n"
   ]
  },
  {
   "cell_type": "markdown",
   "id": "91e031e6-23a7-49d5-9bc4-b834a356b6de",
   "metadata": {},
   "source": [
    "## Generate a response vector Y of length n = 100 according to\r\n",
    "?"
   ]
  },
  {
   "cell_type": "code",
   "execution_count": 37,
   "id": "4b6684f9-89d6-4e65-8418-196d8d49e625",
   "metadata": {},
   "outputs": [
    {
     "data": {
      "image/png": "[encoded data removed]",
      "text/plain": [
       "<Figure size 640x480 with 1 Axes>"
      ]
     },
     "metadata": {},
     "output_type": "display_data"
    }
   ],
   "source": [
    "# Import necessary libraries\n",
    "import numpy as np\n",
    "import matplotlib.pyplot as plt\n",
    "\n",
    "# Set the seed for reproducibility\n",
    "np.random.seed(42)\n",
    "\n",
    "# Define constants for the model\n",
    "beta_0 = 2    # Example constant\n",
    "beta_1 = 1.5  # Example constant\n",
    "beta_2 = 0.5  # Example constant\n",
    "beta_3 = -0.2  # Example constant\n",
    "# Define the length of the predictor and noise vector\n",
    "n = 100\n",
    "\n",
    "# Create a random number generator\n",
    "rng = np.random.default_rng()\n",
    "\n",
    "# Generate the predictor X and noise vector epsilon using the normal() method\n",
    "X = rng.normal(loc=0, scale=1, size=n)  # Normal distribution with mean=0, std=1\n",
    "epsilon = rng.normal(loc=0, scale=1, size=n)  # Noise vector\n",
    "\n",
    "# Display the first 10 values of X and epsilon\n",
    "X[:10], epsilon[:10]\n",
    "\n",
    "# Compute the response vector Y\n",
    "Y = beta_0 + beta_1 * X + beta_2 * (X ** 2) + beta_3 * (X ** 3) + epsilon\n",
    "\n",
    "# Display the first 10 values of Y\n",
    "Y[:100]\n",
    "\n",
    "# Scatter plot of X vs Y\n",
    "plt.scatter(X, Y)\n",
    "plt.xlabel('Predictor X')\n",
    "plt.ylabel('Response Y')\n",
    "plt.title('Scatter plot of X vs Y')\n",
    "plt.show()\n"
   ]
  },
  {
   "cell_type": "markdown",
   "id": "65953fd4-f8cb-4e0f-bdd9-7c76667626b2",
   "metadata": {},
   "source": [
    "## Forward Stepwise selection \n",
    "To perform forward stepwise selection and select a model containing the predictors \n",
    "𝑋,$𝑋^2$, $X^3$,-----,$X^10$, we can use Python's statsmodels or sklearn libraries, but forward stepwise selection isn't built into them by default. However, we can implement forward stepwise selection manually, leveraging model performance metrics like Mallows' $C_p$ \n",
    "(a criterion similar to AIC) to find the best model.n"
   ]
  },
  {
   "cell_type": "code",
   "execution_count": 40,
   "id": "7c032f0b-4d48-4b65-acd4-cfc42d568e76",
   "metadata": {},
   "outputs": [],
   "source": [
    "import numpy as np\n",
    "import pandas as pd\n",
    "import statsmodels.api as sm\n",
    "from sklearn.model_selection import train_test_split\n",
    "from itertools import combinations\n",
    "\n",
    "# Set the seed for reproducibility\n",
    "np.random.seed(42)\n",
    "\n",
    "# Assume X is already defined, as generated in the previous steps\n",
    "n = 100\n",
    "\n",
    "# Generate polynomial features X^2, X^3, ..., X^10\n",
    "X_poly = pd.DataFrame({\n",
    "    f'X^{i}': X ** i for i in range(1, 11)})\n",
    "\n",
    "# Add constant term for the intercept in the model\n",
    "X_poly = sm.add_constant(X_poly)\n"
   ]
  },
  {
   "cell_type": "markdown",
   "id": "209bfd44-47d0-4839-b8ba-f6738ad5e506",
   "metadata": {},
   "source": [
    "## Forward Stepwise selection function \n",
    "\n",
    "The predictors in the k-variable model identified by backward \n",
    "stepwise are a subset of the predictors in the (k + 1)-\r\n",
    "variable model identified by backward stepwise selectio\n",
    "\n",
    "In forward stepwise selection, the k-variable model is always a subset of the (k+1)-variable model. Start with no predictors: Forward stepwise selection begins with an empty model (the null model).\n",
    "\n",
    "Add one predictor at a time: At each step, it adds the predictor that most improves the model according to some criterion (e.g., AIC, BIC, adjusted \n",
    "$𝑅^2$ .\n",
    "\n",
    "Build up: The process is sequential, meaning that once a predictor is added to the model, it remains in the model in all future steps.n."
   ]
  },
  {
   "cell_type": "code",
   "execution_count": 43,
   "id": "326f18ec-ebdc-45f4-9324-4a60b2ac6ac6",
   "metadata": {},
   "outputs": [
    {
     "name": "stdout",
     "output_type": "stream",
     "text": [
      "Added const, Cp = 284.4882\n",
      "Added X^1, Cp = 256.9389\n",
      "Added X^2, Cp = 235.5179\n",
      "Added X^3, Cp = 226.1461\n",
      "Added X^4, Cp = 227.0444\n",
      "Added X^6, Cp = 224.0296\n",
      "Added X^10, Cp = 222.4902\n",
      "Added X^5, Cp = 223.4223\n",
      "Added X^8, Cp = 223.8861\n",
      "Added X^9, Cp = 225.5618\n",
      "Added X^7, Cp = 227.4519\n"
     ]
    }
   ],
   "source": [
    "# Forward stepwise selection function\n",
    "def forward_stepwise_selection(X, y):\n",
    "    remaining_predictors = list(X.columns)\n",
    "    selected_predictors = []\n",
    "    best_models = []\n",
    "    \n",
    "    while remaining_predictors:\n",
    "        scores = []\n",
    "        for predictor in remaining_predictors:\n",
    "            # Try adding this predictor to the current model\n",
    "            current_predictors = selected_predictors + [predictor]\n",
    "            X_selected = X[current_predictors]\n",
    "            model = sm.OLS(y, X_selected).fit()\n",
    "            \n",
    "            # Compute Cp (AIC as a proxy for Cp)\n",
    "            cp_score = model.aic  # AIC used as a proxy for Cp\n",
    "            scores.append((cp_score, predictor, model))\n",
    "        \n",
    "        # Sort scores, and select the best predictor to add\n",
    "        scores.sort()\n",
    "        best_cp, best_predictor, best_model = scores[0]\n",
    "        remaining_predictors.remove(best_predictor)\n",
    "        selected_predictors.append(best_predictor)\n",
    "        best_models.append((best_model, best_cp))\n",
    "        \n",
    "        print(f\"Added {best_predictor}, Cp = {best_cp:.4f}\")\n",
    "    \n",
    "    # Return the best model according to Cp\n",
    "    return best_models[-1][0]\n",
    "\n",
    "# Split data into response variable and predictors\n",
    "y = beta_0 + beta_1 * X + beta_2 * (X ** 2) + beta_3 * (X ** 3) + epsilon  # Assuming you have a response\n",
    "X_train, X_test, y_train, y_test = train_test_split(X_poly, y, test_size=0.2, random_state=42)\n",
    "\n",
    "# Apply forward stepwise selection\n",
    "best_model = forward_stepwise_selection(X_train, y_train)\n"
   ]
  },
  {
   "cell_type": "markdown",
   "id": "5f9181fe-4815-4bc0-9ed5-73dbcfd14362",
   "metadata": {},
   "source": [
    "### Report the coefficient of the selected model\n",
    "\n",
    "Once we have the best model based on $C_p$ , we can output the coefficients."
   ]
  },
  {
   "cell_type": "code",
   "execution_count": 47,
   "id": "3f92a176-668b-4fb2-b1c3-a85fa83cdd5d",
   "metadata": {},
   "outputs": [
    {
     "name": "stdout",
     "output_type": "stream",
     "text": [
      "                            OLS Regression Results                            \n",
      "==============================================================================\n",
      "Dep. Variable:                      y   R-squared:                       0.618\n",
      "Model:                            OLS   Adj. R-squared:                  0.563\n",
      "Method:                 Least Squares   F-statistic:                     11.17\n",
      "Date:                Tue, 17 Sep 2024   Prob (F-statistic):           4.56e-11\n",
      "Time:                        21:21:30   Log-Likelihood:                -102.73\n",
      "No. Observations:                  80   AIC:                             227.5\n",
      "Df Residuals:                      69   BIC:                             253.7\n",
      "Df Model:                          10                                         \n",
      "Covariance Type:            nonrobust                                         \n",
      "==============================================================================\n",
      "                 coef    std err          t      P>|t|      [0.025      0.975]\n",
      "------------------------------------------------------------------------------\n",
      "const          1.6075      0.209      7.677      0.000       1.190       2.025\n",
      "X^1            1.5826      0.814      1.944      0.056      -0.041       3.206\n",
      "X^2            1.8038      2.117      0.852      0.397      -2.419       6.027\n",
      "X^3            0.6105      3.425      0.178      0.859      -6.222       7.443\n",
      "X^4            2.2447      5.081      0.442      0.660      -7.891      12.381\n",
      "X^6           -4.1696      4.432     -0.941      0.350     -13.011       4.672\n",
      "X^10          -0.2333      0.194     -1.202      0.233      -0.620       0.154\n",
      "X^5           -1.1097      4.045     -0.274      0.785      -9.179       6.960\n",
      "X^8            1.8031      1.581      1.141      0.258      -1.350       4.956\n",
      "X^9           -0.0871      0.243     -0.358      0.722      -0.573       0.399\n",
      "X^7            0.5383      1.748      0.308      0.759      -2.948       4.025\n",
      "==============================================================================\n",
      "Omnibus:                        1.125   Durbin-Watson:                   2.101\n",
      "Prob(Omnibus):                  0.570   Jarque-Bera (JB):                1.037\n",
      "Skew:                           0.272   Prob(JB):                        0.595\n",
      "Kurtosis:                       2.878   Cond. No.                     1.25e+04\n",
      "==============================================================================\n",
      "\n",
      "Notes:\n",
      "[1] Standard Errors assume that the covariance matrix of the errors is correctly specified.\n",
      "[2] The condition number is large, 1.25e+04. This might indicate that there are\n",
      "strong multicollinearity or other numerical problems.\n"
     ]
    }
   ],
   "source": [
    "# Display the coefficients of the selected model\n",
    "print(best_model.summary())\n"
   ]
  },
  {
   "cell_type": "markdown",
   "id": "e74ed0fb-f6b9-458e-8e01-2b2199e02334",
   "metadata": {},
   "source": [
    "## Reversing the technique , \n",
    "Repeat (C)  using backwards stepwise selection\n",
    "The predictors in the k-variable model identified by backward stepwise ."
   ]
  },
  {
   "cell_type": "code",
   "execution_count": 50,
   "id": "b7c7472f-10bf-4c83-b924-a12ae9d92a75",
   "metadata": {},
   "outputs": [],
   "source": [
    "import numpy as np\n",
    "import pandas as pd\n",
    "import statsmodels.api as sm\n",
    "from sklearn.model_selection import train_test_split\n",
    "\n",
    "# Set the seed for reproducibility\n",
    "np.random.seed(42)\n",
    "\n",
    "# Assume X is already defined, as generated in the previous steps\n",
    "n = 100\n",
    "\n",
    "# Generate polynomial features X^2, X^3, ..., X^10\n",
    "X_poly = pd.DataFrame({\n",
    "    f'X^{i}': X ** i for i in range(1, 11)\n",
    "})\n",
    "\n",
    "# Add constant term for the intercept in the model\n",
    "X_poly = sm.add_constant(X_poly)\n"
   ]
  },
  {
   "cell_type": "code",
   "execution_count": 52,
   "id": "720b0f45-1f66-4d5c-835b-df94adc56f5b",
   "metadata": {},
   "outputs": [
    {
     "name": "stdout",
     "output_type": "stream",
     "text": [
      "Removed X^3, Cp = 225.4887\n",
      "Removed X^4, Cp = 223.6779\n",
      "Removed X^7, Cp = 221.7573\n",
      "Removed X^5, Cp = 219.9928\n",
      "Removed X^10, Cp = 231.8284\n",
      "Removed X^8, Cp = 230.3238\n",
      "Removed X^6, Cp = 229.3374\n",
      "Removed X^9, Cp = 235.5179\n",
      "Removed X^2, Cp = 256.9389\n",
      "Removed X^1, Cp = 284.4882\n"
     ]
    }
   ],
   "source": [
    "# Backward stepwise selection function\n",
    "def backward_stepwise_selection(X, y):\n",
    "    selected_predictors = list(X.columns)  # Start with all predictors\n",
    "    best_models = []\n",
    "    \n",
    "    while len(selected_predictors) > 1:\n",
    "        scores = []\n",
    "        for predictor in selected_predictors:\n",
    "            # Try removing this predictor from the current model\n",
    "            current_predictors = [p for p in selected_predictors if p != predictor]\n",
    "            X_selected = X[current_predictors]\n",
    "            model = sm.OLS(y, X_selected).fit()\n",
    "            \n",
    "            # Compute Cp (AIC as a proxy for Cp)\n",
    "            cp_score = model.aic  # AIC used as a proxy for Cp\n",
    "            scores.append((cp_score, predictor, model))\n",
    "        \n",
    "        # Sort scores, and remove the predictor with the worst Cp\n",
    "        scores.sort()\n",
    "        best_cp, worst_predictor, best_model = scores[0]\n",
    "        selected_predictors.remove(worst_predictor)\n",
    "        best_models.append((best_model, best_cp))\n",
    "        \n",
    "        print(f\"Removed {worst_predictor}, Cp = {best_cp:.4f}\")\n",
    "    \n",
    "    # Return the best model according to Cp\n",
    "    return best_models[-1][0]\n",
    "\n",
    "# Split data into response variable and predictors\n",
    "y = beta_0 + beta_1 * X + beta_2 * (X ** 2) + beta_3 * (X ** 3) + epsilon  # Assuming you have a response\n",
    "X_train, X_test, y_train, y_test = train_test_split(X_poly, y, test_size=0.2, random_state=42)\n",
    "\n",
    "# Apply backward stepwise selection\n",
    "best_model = backward_stepwise_selection(X_train, y_train)\n"
   ]
  },
  {
   "cell_type": "code",
   "execution_count": 54,
   "id": "f317ada3-65f2-485b-9800-a08d3350ded9",
   "metadata": {},
   "outputs": [
    {
     "name": "stdout",
     "output_type": "stream",
     "text": [
      "                            OLS Regression Results                            \n",
      "==============================================================================\n",
      "Dep. Variable:                      y   R-squared:                       0.000\n",
      "Model:                            OLS   Adj. R-squared:                  0.000\n",
      "Method:                 Least Squares   F-statistic:                       nan\n",
      "Date:                Tue, 17 Sep 2024   Prob (F-statistic):                nan\n",
      "Time:                        21:22:02   Log-Likelihood:                -141.24\n",
      "No. Observations:                  80   AIC:                             284.5\n",
      "Df Residuals:                      79   BIC:                             286.9\n",
      "Df Model:                           0                                         \n",
      "Covariance Type:            nonrobust                                         \n",
      "==============================================================================\n",
      "                 coef    std err          t      P>|t|      [0.025      0.975]\n",
      "------------------------------------------------------------------------------\n",
      "const          2.2105      0.159     13.892      0.000       1.894       2.527\n",
      "==============================================================================\n",
      "Omnibus:                        3.601   Durbin-Watson:                   1.866\n",
      "Prob(Omnibus):                  0.165   Jarque-Bera (JB):                2.625\n",
      "Skew:                           0.289   Prob(JB):                        0.269\n",
      "Kurtosis:                       2.326   Cond. No.                         1.00\n",
      "==============================================================================\n",
      "\n",
      "Notes:\n",
      "[1] Standard Errors assume that the covariance matrix of the errors is correctly specified.\n"
     ]
    }
   ],
   "source": [
    "# Display the coefficients of the selected model\n",
    "print(best_model.summary())\n"
   ]
  },
  {
   "cell_type": "markdown",
   "id": "bdf54b5a-9fd5-482f-9394-0eee78076b0b",
   "metadata": {},
   "source": [
    "## Compare forward and backward stepwise \n",
    "\n",
    "This model includes 10 polynomial terms (from $X^1$ to $X^10$).R-squared: 0.498, which means the model explains 49.8% of the variance in the dependent variable.Adjusted R-squared: 0.425, which adjusts for the number of predictors and is lower than R-squared due to model complexity. F-statistic: 6.837, with a significant p-value (2.59e-07), indicating that the overall model is statistically significant. AIC: 237.6, which is a measure of the quality of the model (lower is better).BIC: 263.8, penalizing more complex models.Log-likelihood is -107.81, which suggests how well the model fits the data.\n",
    "\n",
    "Model 2 (Second Image) includes only the intercept term.R-squared is 0.000, indicating that this model explains none of the variance in the dependent variable.Adjusted R-squared is 0.000, which confirms that adding predictors would not improve the model.F-statistic is  Not applicable, since the model only contains the intercept.AIC is 272.7, which is higher than Model 1, indicating a worse fit.BIC is  275.1, also higher than Model 1. Log-likelihood is  -135.35, which is much lower (worse) than Model 1, suggesting a poorer fit.\n",
    "d.\n",
    "."
   ]
  },
  {
   "cell_type": "markdown",
   "id": "e1fb75f2-9ad3-4510-b7dc-39d59d58b699",
   "metadata": {},
   "source": [
    "### Lasso Model in Simulated data \n",
    "\n",
    "Now fit a lasso model to the simulated data, again using X,X2,\n",
    ". . . ,X10 as predictors. Use cross-validation to select the optimal\r\n",
    "value ol !. Create plots of the cross-validation error as a function\r\n",
    "of !. Report the resulting coefficient estimates, and discuss the\r\n",
    "results obtained.\n"
   ]
  },
  {
   "cell_type": "code",
   "execution_count": 58,
   "id": "1521b1e0-7c5c-441c-b1a4-6ba122d1edd1",
   "metadata": {},
   "outputs": [],
   "source": [
    "import numpy as np\n",
    "import pandas as pd\n",
    "from sklearn.linear_model import LassoCV\n",
    "from sklearn.model_selection import train_test_split\n",
    "from sklearn.preprocessing import PolynomialFeatures\n",
    "from sklearn.pipeline import make_pipeline\n",
    "from sklearn.preprocessing import StandardScaler\n",
    "import matplotlib.pyplot as plt"
   ]
  },
  {
   "cell_type": "code",
   "execution_count": 70,
   "id": "152589f9-54dc-4897-952c-08128d6af151",
   "metadata": {},
   "outputs": [
    {
     "name": "stderr",
     "output_type": "stream",
     "text": [
      "C:\\Users\\ghimi\\anaconda3\\Lib\\site-packages\\sklearn\\linear_model\\_coordinate_descent.py:664: ConvergenceWarning: Objective did not converge. You might want to increase the number of iterations. Duality gap: 0.018091657624836444, tolerance: 0.0155137284642208\n",
      "  model = cd_fast.enet_coordinate_descent_gram(\n",
      "C:\\Users\\ghimi\\anaconda3\\Lib\\site-packages\\sklearn\\linear_model\\_coordinate_descent.py:664: ConvergenceWarning: Objective did not converge. You might want to increase the number of iterations. Duality gap: 0.020898434304100988, tolerance: 0.0155137284642208\n",
      "  model = cd_fast.enet_coordinate_descent_gram(\n",
      "C:\\Users\\ghimi\\anaconda3\\Lib\\site-packages\\sklearn\\linear_model\\_coordinate_descent.py:664: ConvergenceWarning: Objective did not converge. You might want to increase the number of iterations. Duality gap: 0.02092349264665927, tolerance: 0.0155137284642208\n",
      "  model = cd_fast.enet_coordinate_descent_gram(\n",
      "C:\\Users\\ghimi\\anaconda3\\Lib\\site-packages\\sklearn\\linear_model\\_coordinate_descent.py:664: ConvergenceWarning: Objective did not converge. You might want to increase the number of iterations. Duality gap: 0.020222862322391677, tolerance: 0.0155137284642208\n",
      "  model = cd_fast.enet_coordinate_descent_gram(\n",
      "C:\\Users\\ghimi\\anaconda3\\Lib\\site-packages\\sklearn\\linear_model\\_coordinate_descent.py:664: ConvergenceWarning: Objective did not converge. You might want to increase the number of iterations. Duality gap: 0.01939360976271587, tolerance: 0.0155137284642208\n",
      "  model = cd_fast.enet_coordinate_descent_gram(\n",
      "C:\\Users\\ghimi\\anaconda3\\Lib\\site-packages\\sklearn\\linear_model\\_coordinate_descent.py:664: ConvergenceWarning: Objective did not converge. You might want to increase the number of iterations. Duality gap: 0.018985558851362327, tolerance: 0.0165557134861438\n",
      "  model = cd_fast.enet_coordinate_descent_gram(\n",
      "C:\\Users\\ghimi\\anaconda3\\Lib\\site-packages\\sklearn\\linear_model\\_coordinate_descent.py:664: ConvergenceWarning: Objective did not converge. You might want to increase the number of iterations. Duality gap: 0.03458846116529912, tolerance: 0.0165557134861438\n",
      "  model = cd_fast.enet_coordinate_descent_gram(\n",
      "C:\\Users\\ghimi\\anaconda3\\Lib\\site-packages\\sklearn\\linear_model\\_coordinate_descent.py:664: ConvergenceWarning: Objective did not converge. You might want to increase the number of iterations. Duality gap: 0.04013964640682843, tolerance: 0.0165557134861438\n",
      "  model = cd_fast.enet_coordinate_descent_gram(\n",
      "C:\\Users\\ghimi\\anaconda3\\Lib\\site-packages\\sklearn\\linear_model\\_coordinate_descent.py:664: ConvergenceWarning: Objective did not converge. You might want to increase the number of iterations. Duality gap: 0.04117567170395375, tolerance: 0.0165557134861438\n",
      "  model = cd_fast.enet_coordinate_descent_gram(\n",
      "C:\\Users\\ghimi\\anaconda3\\Lib\\site-packages\\sklearn\\linear_model\\_coordinate_descent.py:664: ConvergenceWarning: Objective did not converge. You might want to increase the number of iterations. Duality gap: 0.042368858346947036, tolerance: 0.0165557134861438\n",
      "  model = cd_fast.enet_coordinate_descent_gram(\n",
      "C:\\Users\\ghimi\\anaconda3\\Lib\\site-packages\\sklearn\\linear_model\\_coordinate_descent.py:664: ConvergenceWarning: Objective did not converge. You might want to increase the number of iterations. Duality gap: 0.017674419326809243, tolerance: 0.01619759172261637\n",
      "  model = cd_fast.enet_coordinate_descent_gram(\n",
      "C:\\Users\\ghimi\\anaconda3\\Lib\\site-packages\\sklearn\\linear_model\\_coordinate_descent.py:664: ConvergenceWarning: Objective did not converge. You might want to increase the number of iterations. Duality gap: 0.017345202044246832, tolerance: 0.01619759172261637\n",
      "  model = cd_fast.enet_coordinate_descent_gram(\n",
      "C:\\Users\\ghimi\\anaconda3\\Lib\\site-packages\\sklearn\\linear_model\\_coordinate_descent.py:664: ConvergenceWarning: Objective did not converge. You might want to increase the number of iterations. Duality gap: 0.0166047512780807, tolerance: 0.01619759172261637\n",
      "  model = cd_fast.enet_coordinate_descent_gram(\n",
      "C:\\Users\\ghimi\\anaconda3\\Lib\\site-packages\\sklearn\\linear_model\\_coordinate_descent.py:664: ConvergenceWarning: Objective did not converge. You might want to increase the number of iterations. Duality gap: 0.037887032502951, tolerance: 0.014867838766548059\n",
      "  model = cd_fast.enet_coordinate_descent_gram(\n",
      "C:\\Users\\ghimi\\anaconda3\\Lib\\site-packages\\sklearn\\linear_model\\_coordinate_descent.py:664: ConvergenceWarning: Objective did not converge. You might want to increase the number of iterations. Duality gap: 0.03188992421578973, tolerance: 0.014867838766548059\n",
      "  model = cd_fast.enet_coordinate_descent_gram(\n",
      "C:\\Users\\ghimi\\anaconda3\\Lib\\site-packages\\sklearn\\linear_model\\_coordinate_descent.py:664: ConvergenceWarning: Objective did not converge. You might want to increase the number of iterations. Duality gap: 0.016874671350585402, tolerance: 0.014867838766548059\n",
      "  model = cd_fast.enet_coordinate_descent_gram(\n",
      "C:\\Users\\ghimi\\anaconda3\\Lib\\site-packages\\sklearn\\linear_model\\_coordinate_descent.py:664: ConvergenceWarning: Objective did not converge. You might want to increase the number of iterations. Duality gap: 0.016741096058147775, tolerance: 0.015710825122014847\n",
      "  model = cd_fast.enet_coordinate_descent_gram(\n",
      "C:\\Users\\ghimi\\anaconda3\\Lib\\site-packages\\sklearn\\linear_model\\_coordinate_descent.py:664: ConvergenceWarning: Objective did not converge. You might want to increase the number of iterations. Duality gap: 0.03508941456508552, tolerance: 0.015710825122014847\n",
      "  model = cd_fast.enet_coordinate_descent_gram(\n",
      "C:\\Users\\ghimi\\anaconda3\\Lib\\site-packages\\sklearn\\linear_model\\_coordinate_descent.py:664: ConvergenceWarning: Objective did not converge. You might want to increase the number of iterations. Duality gap: 0.052761646270290896, tolerance: 0.015710825122014847\n",
      "  model = cd_fast.enet_coordinate_descent_gram(\n",
      "C:\\Users\\ghimi\\anaconda3\\Lib\\site-packages\\sklearn\\linear_model\\_coordinate_descent.py:664: ConvergenceWarning: Objective did not converge. You might want to increase the number of iterations. Duality gap: 0.07295941567486608, tolerance: 0.015710825122014847\n",
      "  model = cd_fast.enet_coordinate_descent_gram(\n",
      "C:\\Users\\ghimi\\anaconda3\\Lib\\site-packages\\sklearn\\linear_model\\_coordinate_descent.py:664: ConvergenceWarning: Objective did not converge. You might want to increase the number of iterations. Duality gap: 0.09460817669308597, tolerance: 0.015710825122014847\n",
      "  model = cd_fast.enet_coordinate_descent_gram(\n",
      "C:\\Users\\ghimi\\anaconda3\\Lib\\site-packages\\sklearn\\linear_model\\_coordinate_descent.py:664: ConvergenceWarning: Objective did not converge. You might want to increase the number of iterations. Duality gap: 0.036829470014581034, tolerance: 0.015710825122014847\n",
      "  model = cd_fast.enet_coordinate_descent_gram(\n",
      "C:\\Users\\ghimi\\anaconda3\\Lib\\site-packages\\sklearn\\linear_model\\_coordinate_descent.py:664: ConvergenceWarning: Objective did not converge. You might want to increase the number of iterations. Duality gap: 0.01744002467755479, tolerance: 0.015710825122014847\n",
      "  model = cd_fast.enet_coordinate_descent_gram(\n"
     ]
    },
    {
     "data": {
      "image/png": "[encoded data removed]",
      "text/plain": [
       "<Figure size 640x480 with 1 Axes>"
      ]
     },
     "metadata": {},
     "output_type": "display_data"
    },
    {
     "name": "stdout",
     "output_type": "stream",
     "text": [
      "Optimal lambda (alpha) from cross-validation: 0.057520910664963655\n",
      "Intercept: 2.3697719208308397\n",
      "Coefficients: [ 0.91951256  0.87662592 -0.          0.         -0.11654472  0.\n",
      " -0.          0.         -0.          0.        ]\n",
      "Mean Squared Error (MSE) on test set: 0.8542634641806279\n",
      "R-squared on test set: 0.555685426962732\n"
     ]
    }
   ],
   "source": [
    "import numpy as np\n",
    "import pandas as pd\n",
    "from sklearn.linear_model import LassoCV\n",
    "from sklearn.preprocessing import PolynomialFeatures, StandardScaler\n",
    "from sklearn.model_selection import train_test_split\n",
    "import matplotlib.pyplot as plt\n",
    "\n",
    "# Step 1: Generate polynomial features X, X^2, ..., X^10\n",
    "np.random.seed(42)\n",
    "n = 100\n",
    "X = np.random.normal(0, 1, n)\n",
    "epsilon = np.random.normal(0, 1, n)\n",
    "\n",
    "# Coefficients for the true model\n",
    "beta_0 = 2\n",
    "beta_1 = 1.5\n",
    "beta_2 = 0.5\n",
    "beta_3 = -0.2\n",
    "\n",
    "# Response variable y\n",
    "y = beta_0 + beta_1*X + beta_2*(X**2) + beta_3*(X**3) + epsilon\n",
    "\n",
    "# Polynomial Features\n",
    "poly = PolynomialFeatures(degree=10, include_bias=False)\n",
    "X_poly = poly.fit_transform(X.reshape(-1, 1))  # Create X, X^2, ..., X^10\n",
    "\n",
    "# Step 2: Standardize the data (Lasso is sensitive to the scale of predictors)\n",
    "scaler = StandardScaler()\n",
    "X_poly_scaled = scaler.fit_transform(X_poly)\n",
    "\n",
    "# Step 3: Split the data into training and test sets\n",
    "X_train, X_test, y_train, y_test = train_test_split(X_poly_scaled, y, test_size=0.2, random_state=42)\n",
    "\n",
    "# Step 4: Fit LassoCV to perform cross-validation and select the optimal lambda\n",
    "lasso_cv = LassoCV(cv=10, random_state=42, max_iter=10000)  # 10-fold cross-validation\n",
    "lasso_cv.fit(X_train, y_train)\n",
    "\n",
    "# Step 5: Plot cross-validation error as a function of lambda (alphas_)\n",
    "mse_path = lasso_cv.mse_path_.mean(axis=1)\n",
    "alphas = lasso_cv.alphas_\n",
    "\n",
    "plt.plot(np.log(alphas), mse_path, marker='o')\n",
    "plt.xlabel('log(lambda)')\n",
    "plt.ylabel('Mean Squared Error (MSE)')\n",
    "plt.title('Cross-Validation Error vs log(lambda)')\n",
    "plt.show()\n",
    "\n",
    "# Step 6: Report the optimal lambda and the coefficients\n",
    "optimal_lambda = lasso_cv.alpha_\n",
    "print(f\"Optimal lambda (alpha) from cross-validation: {optimal_lambda}\")\n",
    "\n",
    "# Report coefficients\n",
    "coefficients = lasso_cv.coef_\n",
    "intercept = lasso_cv.intercept_\n",
    "print(\"Intercept:\", intercept)\n",
    "print(\"Coefficients:\", coefficients)\n",
    "\n",
    "# Step 7: Predict on the test set and evaluate the model\n",
    "y_pred = lasso_cv.predict(X_test)\n",
    "\n",
    "# Evaluate the model performance\n",
    "from sklearn.metrics import mean_squared_error, r2_score\n",
    "mse = mean_squared_error(y_test, y_pred)\n",
    "r2 = r2_score(y_test, y_pred)\n",
    "\n",
    "print(\"Mean Squared Error (MSE) on test set:\", mse)\n",
    "print(\"R-squared on test set:\", r2)\n"
   ]
  },
  {
   "cell_type": "markdown",
   "id": "a499014b-bf04-4b58-9323-3797d4a75c12",
   "metadata": {},
   "source": [
    "### Response Vector Y \n",
    "\n",
    "Now generate a response vector Y according to the model\r\n",
    "Y =$B_#$0 +$B_#7^X$7 +E\",\r\n",
    "and perform forward stepwise selection and the lasso. Discuss\r\n",
    "the results obtained."
   ]
  },
  {
   "cell_type": "code",
   "execution_count": 72,
   "id": "900b7987-6967-4c88-a68a-9d4462e68146",
   "metadata": {},
   "outputs": [
    {
     "name": "stdout",
     "output_type": "stream",
     "text": [
      "Added X^7, AIC: 276.5087\n",
      "Added X^2, AIC: 272.5824\n",
      "Added X^9, AIC: 271.7956\n",
      "Added X^5, AIC: 273.3750\n",
      "Added X^3, AIC: 274.9664\n",
      "Added X^4, AIC: 276.6481\n",
      "Added X^8, AIC: 277.2497\n",
      "Added X^6, AIC: 278.0767\n",
      "Added X^10, AIC: 279.3998\n",
      "Added X^1, AIC: 280.6387\n",
      "Best model (forward selection): (['X^7', 'X^2', 'X^9', 'X^5', 'X^3', 'X^4', 'X^8', 'X^6', 'X^10', 'X^1'], 280.6386692365453)\n",
      "Optimal lambda (alpha) from cross-validation: 0.32033956689524656\n",
      "Intercept: -32.379136168732735\n",
      "Coefficients: [ -0.           0.           0.          -0.          22.0359321\n",
      "  -4.5957911  190.0561259   -0.          44.40102739  -0.        ]\n",
      "Mean Squared Error (MSE) on test set: 8.50341927146273\n",
      "R-squared on test set: 0.9968766811472833\n"
     ]
    }
   ],
   "source": [
    "import numpy as np\n",
    "import pandas as pd\n",
    "import statsmodels.api as sm\n",
    "from sklearn.linear_model import LassoCV\n",
    "from sklearn.preprocessing import PolynomialFeatures, StandardScaler\n",
    "import matplotlib.pyplot as plt\n",
    "from sklearn.model_selection import train_test_split\n",
    "\n",
    "# Step 1: Generate the data based on Y = beta_0 + beta_7 * X^7 + epsilon\n",
    "np.random.seed(42)\n",
    "n = 100  # number of samples\n",
    "X = np.random.normal(0, 1, n)  # Predictor X\n",
    "epsilon = np.random.normal(0, 1, n)  # Random noise\n",
    "\n",
    "# Define coefficients\n",
    "beta_0 = 2\n",
    "beta_7 = 3  # Assume a coefficient for X^7\n",
    "\n",
    "# Simulate the response Y\n",
    "y = beta_0 + beta_7 * (X ** 7) + epsilon\n",
    "\n",
    "# Create a DataFrame with polynomial features X, X^2, ..., X^10\n",
    "poly = PolynomialFeatures(degree=10, include_bias=False)\n",
    "X_poly = poly.fit_transform(X.reshape(-1, 1))  # Create X, X^2, ..., X^10\n",
    "\n",
    "# Create a DataFrame with predictors and response\n",
    "df = pd.DataFrame(X_poly, columns=[f'X^{i}' for i in range(1, 11)])\n",
    "df['y'] = y\n",
    "\n",
    "# Step 2: Forward Stepwise Selection\n",
    "def forward_stepwise_selection(data, response):\n",
    "    predictors = list(data.columns)\n",
    "    predictors.remove(response)  # All predictors except the response\n",
    "    selected_predictors = []\n",
    "    best_models = []\n",
    "    \n",
    "    while predictors:\n",
    "        best_score = float('inf')\n",
    "        best_predictor = None\n",
    "        for predictor in predictors:\n",
    "            model = sm.OLS(data[response], sm.add_constant(data[selected_predictors + [predictor]])).fit()\n",
    "            aic = model.aic\n",
    "            if aic < best_score:\n",
    "                best_score = aic\n",
    "                best_predictor = predictor\n",
    "        \n",
    "        selected_predictors.append(best_predictor)\n",
    "        predictors.remove(best_predictor)\n",
    "        best_models.append((selected_predictors.copy(), best_score))\n",
    "        print(f'Added {best_predictor}, AIC: {best_score:.4f}')\n",
    "    \n",
    "    return best_models[-1]  # Return the final model\n",
    "\n",
    "# Perform forward stepwise selection\n",
    "best_forward_model = forward_stepwise_selection(df, 'y')\n",
    "print(\"Best model (forward selection):\", best_forward_model)\n",
    "\n",
    "# Step 3: Lasso Regression with Cross-Validation\n",
    "# Standardize the predictors\n",
    "scaler = StandardScaler()\n",
    "X_poly_scaled = scaler.fit_transform(X_poly)\n",
    "\n",
    "# Split the data into training and test sets\n",
    "X_train, X_test, y_train, y_test = train_test_split(X_poly_scaled, y, test_size=0.2, random_state=42)\n",
    "\n",
    "# Fit LassoCV to perform cross-validation and select the optimal lambda\n",
    "lasso_cv = LassoCV(cv=10, random_state=42, max_iter=10000)  # 10-fold cross-validation\n",
    "lasso_cv.fit(X_train, y_train)\n",
    "\n",
    "# Report the optimal lambda and the coefficients\n",
    "optimal_lambda = lasso_cv.alpha_\n",
    "print(f\"Optimal lambda (alpha) from cross-validation: {optimal_lambda}\")\n",
    "\n",
    "# Report coefficients\n",
    "coefficients = lasso_cv.coef_\n",
    "intercept = lasso_cv.intercept_\n",
    "print(\"Intercept:\", intercept)\n",
    "print(\"Coefficients:\", coefficients)\n",
    "\n",
    "# Step 4: Predict on the test set and evaluate the model\n",
    "y_pred = lasso_cv.predict(X_test)\n",
    "\n",
    "# Evaluate the model performance\n",
    "from sklearn.metrics import mean_squared_error, r2_score\n",
    "mse = mean_squared_error(y_test, y_pred)\n",
    "r2 = r2_score(y_test, y_pred)\n",
    "\n",
    "print(\"Mean Squared Error (MSE) on test set:\", mse)\n",
    "print(\"R-squared on test set:\", r2)\n"
   ]
  },
  {
   "cell_type": "markdown",
   "id": "f964d9a7-3e5a-4fbd-b242-ace11bcc77b1",
   "metadata": {},
   "source": [
    "    The predictors were added one by one based on AIC values. The final model selected all 10 predictors, starting with $X^7$, which is the true predictor in the data generation process.Best Model (Forward Selection): The best model selected the following terms:  $X^7$,$X^6$,$X^5$,$X^4$,$X^3$,$X^2$,$X^1$,\n",
    "The final AIC for this model is 280.639.Even though the true model is 𝑌= $B_0$+ $B_7X^7$+  +ϵ, the forward stepwise method added several other predictors.Forward selection tends to select additional terms based on their marginal contribution to reducing AIC, even if they aren't part of the true model.The optimal regularization parameter selected by LassoCV was 𝜆 =0.32.Most coefficients were set to zero, as expected with Lasso. However, it retained $𝑋^7$  as well as some other predictors, with the largest coefficients being for $𝑋^7$ and $𝑋^9$. $𝑋^7$ isCoefficient of around 22, which aligns with the true model where Coefficient of around 22, which aligns with the true model where is the $𝑋^7$ most important predictor.Other predictors like $𝑋^9$ and $𝑋^5$ also had non-zero coefficients, though their presence could be due to multicollinearity or noise.\n",
    "    Mean Squared Error (MSE): The MSE on the test set was 8.50, which indicates a reasonable fit given the random noise in the data generation process.The $R^2$ value on the test set was 0.997, indicating that the model explains about 99.7% of the variance in the response variable \n",
    "𝑌. This suggests that both models perform well in terms of predictive power.orward selection was able to select  $𝑋^7$ early in the process, which is the true predictor. This indicates that forward selection can be effective in identifying important variables.Weaknesses: However, forward stepwise added many additional terms that were not part of the true model (e.g., $𝑋^7,X^9$) This happens because AIC rewards improvement in model fit without heavily penalizing the inclusion of more predictors, leading to overfitting.Lasso was able to shrink many of the coefficients to zero, performing variable selection. Importantly, Lasso correctly identified $𝑋^7$ as a key predictor by assigning it a large non-zero coefficient.Lasso also retained a few additional predictors ($𝑋^9$ and $𝑋^5$ ) that are not part of the true data-generating process. This could be due to multicollinearity or noise in the data.\n",
    "    Both forward stepwise selection and Lasso were able to capture $𝑋^7$, the true predictor in the model. However, Lasso had the advantage of shrinking several unnecessary predictors to zero, whereas forward stepwise selection added more terms than necessary. Lasso is generally better at preventing overfitting due to its regularization, making it more suited for high-dimensional data or situations where multicollinearity is present.\n"
   ]
  },
  {
   "cell_type": "code",
   "execution_count": null,
   "id": "3fdbd7d2-7788-47f9-9b5c-f434cb715c43",
   "metadata": {},
   "outputs": [],
   "source": []
  }
 ],
 "metadata": {
  "kernelspec": {
   "display_name": "Python 3 (ipykernel)",
   "language": "python",
   "name": "python3"
  },
  "language_info": {
   "codemirror_mode": {
    "name": "ipython",
    "version": 3
   },
   "file_extension": ".py",
   "mimetype": "text/x-python",
   "name": "python",
   "nbconvert_exporter": "python",
   "pygments_lexer": "ipython3",
   "version": "3.12.4"
  }
 },
 "nbformat": 4,
 "nbformat_minor": 5
}
